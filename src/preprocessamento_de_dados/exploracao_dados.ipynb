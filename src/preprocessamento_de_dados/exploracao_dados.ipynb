{
 "cells": [
  {
   "cell_type": "markdown",
   "metadata": {},
   "source": [
    "# import libraries"
   ]
  },
  {
   "cell_type": "code",
   "execution_count": 96,
   "metadata": {},
   "outputs": [],
   "source": [
    "# import libraries\n",
    "import numpy as np\n",
    "import pandas as pd\n",
    "import matplotlib.pyplot as plt\n",
    "import limpeza_dados as ld\n",
    "from datetime import datetime"
   ]
  },
  {
   "cell_type": "markdown",
   "metadata": {},
   "source": [
    "# load dados data"
   ]
  },
  {
   "cell_type": "code",
   "execution_count": 4,
   "metadata": {},
   "outputs": [],
   "source": [
    "df = ld.read_csv_first_n_entries('../../../dados.csv', n=50)"
   ]
  },
  {
   "cell_type": "code",
   "execution_count": 5,
   "metadata": {},
   "outputs": [
    {
     "data": {
      "text/html": [
       "<div>\n",
       "<style scoped>\n",
       "    .dataframe tbody tr th:only-of-type {\n",
       "        vertical-align: middle;\n",
       "    }\n",
       "\n",
       "    .dataframe tbody tr th {\n",
       "        vertical-align: top;\n",
       "    }\n",
       "\n",
       "    .dataframe thead th {\n",
       "        text-align: right;\n",
       "    }\n",
       "</style>\n",
       "<table border=\"1\" class=\"dataframe\">\n",
       "  <thead>\n",
       "    <tr style=\"text-align: right;\">\n",
       "      <th></th>\n",
       "      <th>flightid</th>\n",
       "      <th>origem</th>\n",
       "      <th>destino</th>\n",
       "      <th>dt_dep</th>\n",
       "      <th>dt_arr</th>\n",
       "      <th>day</th>\n",
       "      <th>hour</th>\n",
       "      <th>weekday</th>\n",
       "      <th>path</th>\n",
       "      <th>distance_path_km</th>\n",
       "      <th>...</th>\n",
       "      <th>aero_metar</th>\n",
       "      <th>snapshot_radar</th>\n",
       "      <th>hora_esperas</th>\n",
       "      <th>esperas</th>\n",
       "      <th>aero_esperas</th>\n",
       "      <th>hora_tcp</th>\n",
       "      <th>troca</th>\n",
       "      <th>aero_tcp</th>\n",
       "      <th>hora_tcr</th>\n",
       "      <th>aero_tcr</th>\n",
       "    </tr>\n",
       "  </thead>\n",
       "  <tbody>\n",
       "    <tr>\n",
       "      <th>0</th>\n",
       "      <td>fcb2bf90345705318213ae1307c0f901</td>\n",
       "      <td>SBKP</td>\n",
       "      <td>SBRJ</td>\n",
       "      <td>1654044297000</td>\n",
       "      <td>1654046760000</td>\n",
       "      <td>1</td>\n",
       "      <td>1</td>\n",
       "      <td>wednesday</td>\n",
       "      <td>http://satelite.cptec.inpe.br/repositoriogoes/...</td>\n",
       "      <td>228</td>\n",
       "      <td>...</td>\n",
       "      <td>SBKP</td>\n",
       "      <td>MULTIPOINT ((-0.7536792855 -0.3990632025), (-0...</td>\n",
       "      <td>1.654078e+12</td>\n",
       "      <td>3</td>\n",
       "      <td>SBKP</td>\n",
       "      <td>1.654124e+12</td>\n",
       "      <td>1</td>\n",
       "      <td>RJ</td>\n",
       "      <td>NaN</td>\n",
       "      <td>NaN</td>\n",
       "    </tr>\n",
       "    <tr>\n",
       "      <th>1</th>\n",
       "      <td>c7c5c10716335b048f86d8c52fcba3f2</td>\n",
       "      <td>SBGR</td>\n",
       "      <td>SBRJ</td>\n",
       "      <td>1654045021000</td>\n",
       "      <td>1654047173000</td>\n",
       "      <td>1</td>\n",
       "      <td>1</td>\n",
       "      <td>wednesday</td>\n",
       "      <td>http://satelite.cptec.inpe.br/repositoriogoes/...</td>\n",
       "      <td>73</td>\n",
       "      <td>...</td>\n",
       "      <td>SBGR</td>\n",
       "      <td>MULTIPOINT ((-0.7899858672 -0.4100310496), (-0...</td>\n",
       "      <td>1.654121e+12</td>\n",
       "      <td>2</td>\n",
       "      <td>SBGR</td>\n",
       "      <td>1.654124e+12</td>\n",
       "      <td>1</td>\n",
       "      <td>RJ</td>\n",
       "      <td>NaN</td>\n",
       "      <td>NaN</td>\n",
       "    </tr>\n",
       "    <tr>\n",
       "      <th>2</th>\n",
       "      <td>3162de7203a972f071d5a48e8f0f4828</td>\n",
       "      <td>SBBR</td>\n",
       "      <td>SBRJ</td>\n",
       "      <td>1654043212000</td>\n",
       "      <td>1654047825000</td>\n",
       "      <td>1</td>\n",
       "      <td>1</td>\n",
       "      <td>wednesday</td>\n",
       "      <td>http://satelite.cptec.inpe.br/repositoriogoes/...</td>\n",
       "      <td>253</td>\n",
       "      <td>...</td>\n",
       "      <td>SBBR</td>\n",
       "      <td>MULTIPOINT ((-0.7738062221 -0.3789342454), (-0...</td>\n",
       "      <td>NaN</td>\n",
       "      <td>0</td>\n",
       "      <td>NaN</td>\n",
       "      <td>1.654124e+12</td>\n",
       "      <td>1</td>\n",
       "      <td>RJ</td>\n",
       "      <td>NaN</td>\n",
       "      <td>NaN</td>\n",
       "    </tr>\n",
       "    <tr>\n",
       "      <th>3</th>\n",
       "      <td>8fcd243e9b9eebbe62ab145ce04b6ab5</td>\n",
       "      <td>SBKP</td>\n",
       "      <td>SBCF</td>\n",
       "      <td>1654045120000</td>\n",
       "      <td>1654047701000</td>\n",
       "      <td>1</td>\n",
       "      <td>1</td>\n",
       "      <td>wednesday</td>\n",
       "      <td>http://satelite.cptec.inpe.br/repositoriogoes/...</td>\n",
       "      <td>277</td>\n",
       "      <td>...</td>\n",
       "      <td>SBCF</td>\n",
       "      <td>MULTIPOINT ((-0.7733487457 -0.3473309624), (-0...</td>\n",
       "      <td>1.654078e+12</td>\n",
       "      <td>3</td>\n",
       "      <td>SBKP</td>\n",
       "      <td>1.654124e+12</td>\n",
       "      <td>1</td>\n",
       "      <td>KP</td>\n",
       "      <td>NaN</td>\n",
       "      <td>NaN</td>\n",
       "    </tr>\n",
       "    <tr>\n",
       "      <th>4</th>\n",
       "      <td>504a62621cd231d6ab67e674ce538cd3</td>\n",
       "      <td>SBCF</td>\n",
       "      <td>SBFL</td>\n",
       "      <td>1654045238000</td>\n",
       "      <td>1654050785000</td>\n",
       "      <td>1</td>\n",
       "      <td>1</td>\n",
       "      <td>wednesday</td>\n",
       "      <td>http://satelite.cptec.inpe.br/repositoriogoes/...</td>\n",
       "      <td>1242</td>\n",
       "      <td>...</td>\n",
       "      <td>SBCF</td>\n",
       "      <td>MULTIPOINT ((-0.8475488606 -0.4827363881), (-0...</td>\n",
       "      <td>NaN</td>\n",
       "      <td>0</td>\n",
       "      <td>NaN</td>\n",
       "      <td>1.654124e+12</td>\n",
       "      <td>1</td>\n",
       "      <td>FL</td>\n",
       "      <td>1.654045e+12</td>\n",
       "      <td>SBFL</td>\n",
       "    </tr>\n",
       "  </tbody>\n",
       "</table>\n",
       "<p>5 rows × 28 columns</p>\n",
       "</div>"
      ],
      "text/plain": [
       "                           flightid origem destino         dt_dep  \\\n",
       "0  fcb2bf90345705318213ae1307c0f901   SBKP    SBRJ  1654044297000   \n",
       "1  c7c5c10716335b048f86d8c52fcba3f2   SBGR    SBRJ  1654045021000   \n",
       "2  3162de7203a972f071d5a48e8f0f4828   SBBR    SBRJ  1654043212000   \n",
       "3  8fcd243e9b9eebbe62ab145ce04b6ab5   SBKP    SBCF  1654045120000   \n",
       "4  504a62621cd231d6ab67e674ce538cd3   SBCF    SBFL  1654045238000   \n",
       "\n",
       "          dt_arr  day  hour    weekday  \\\n",
       "0  1654046760000    1     1  wednesday   \n",
       "1  1654047173000    1     1  wednesday   \n",
       "2  1654047825000    1     1  wednesday   \n",
       "3  1654047701000    1     1  wednesday   \n",
       "4  1654050785000    1     1  wednesday   \n",
       "\n",
       "                                                path  distance_path_km  ...  \\\n",
       "0  http://satelite.cptec.inpe.br/repositoriogoes/...               228  ...   \n",
       "1  http://satelite.cptec.inpe.br/repositoriogoes/...                73  ...   \n",
       "2  http://satelite.cptec.inpe.br/repositoriogoes/...               253  ...   \n",
       "3  http://satelite.cptec.inpe.br/repositoriogoes/...               277  ...   \n",
       "4  http://satelite.cptec.inpe.br/repositoriogoes/...              1242  ...   \n",
       "\n",
       "   aero_metar                                     snapshot_radar  \\\n",
       "0        SBKP  MULTIPOINT ((-0.7536792855 -0.3990632025), (-0...   \n",
       "1        SBGR  MULTIPOINT ((-0.7899858672 -0.4100310496), (-0...   \n",
       "2        SBBR  MULTIPOINT ((-0.7738062221 -0.3789342454), (-0...   \n",
       "3        SBCF  MULTIPOINT ((-0.7733487457 -0.3473309624), (-0...   \n",
       "4        SBCF  MULTIPOINT ((-0.8475488606 -0.4827363881), (-0...   \n",
       "\n",
       "   hora_esperas  esperas aero_esperas      hora_tcp  troca aero_tcp  \\\n",
       "0  1.654078e+12        3         SBKP  1.654124e+12      1       RJ   \n",
       "1  1.654121e+12        2         SBGR  1.654124e+12      1       RJ   \n",
       "2           NaN        0          NaN  1.654124e+12      1       RJ   \n",
       "3  1.654078e+12        3         SBKP  1.654124e+12      1       KP   \n",
       "4           NaN        0          NaN  1.654124e+12      1       FL   \n",
       "\n",
       "       hora_tcr aero_tcr  \n",
       "0           NaN      NaN  \n",
       "1           NaN      NaN  \n",
       "2           NaN      NaN  \n",
       "3           NaN      NaN  \n",
       "4  1.654045e+12     SBFL  \n",
       "\n",
       "[5 rows x 28 columns]"
      ]
     },
     "execution_count": 5,
     "metadata": {},
     "output_type": "execute_result"
    }
   ],
   "source": [
    "df.head()"
   ]
  },
  {
   "cell_type": "code",
   "execution_count": 76,
   "metadata": {},
   "outputs": [
    {
     "data": {
      "text/plain": [
       "0    2022-06-01 00:44:57\n",
       "1    2022-06-01 00:57:01\n",
       "2    2022-06-01 00:26:52\n",
       "3    2022-06-01 00:58:40\n",
       "4    2022-06-01 01:00:38\n",
       "5    2022-06-01 00:15:31\n",
       "6    2022-06-01 09:20:04\n",
       "7    2022-06-01 00:59:53\n",
       "8    2022-06-01 01:20:45\n",
       "9    2022-06-01 01:13:59\n",
       "10   2022-06-01 00:43:22\n",
       "11   2022-06-01 01:26:38\n",
       "12   2022-06-01 00:51:05\n",
       "13   2022-06-01 00:49:22\n",
       "14   2022-06-01 01:14:56\n",
       "15   2022-06-01 01:26:19\n",
       "16   2022-06-01 11:27:00\n",
       "17   2022-06-01 11:21:30\n",
       "18   2022-06-01 11:33:30\n",
       "19   2022-06-01 11:08:46\n",
       "20   2022-06-01 10:48:07\n",
       "21   2022-06-01 11:38:20\n",
       "22   2022-06-01 12:12:29\n",
       "23   2022-06-01 00:21:29\n",
       "24   2022-06-01 01:33:36\n",
       "25   2022-06-01 01:30:13\n",
       "26   2022-06-01 01:51:17\n",
       "27   2022-06-01 01:48:03\n",
       "28   2022-06-01 10:41:40\n",
       "29   2022-06-01 11:09:11\n",
       "30   2022-06-01 10:20:31\n",
       "31   2022-06-01 10:49:59\n",
       "32   2022-06-01 11:01:47\n",
       "33   2022-06-01 11:08:40\n",
       "34   2022-06-01 09:13:39\n",
       "35   2022-06-01 12:01:48\n",
       "36   2022-06-01 11:43:24\n",
       "37   2022-06-01 12:39:03\n",
       "38   2022-06-01 12:46:40\n",
       "39   2022-06-01 09:58:16\n",
       "40   2022-06-01 10:27:09\n",
       "41   2022-06-01 10:50:50\n",
       "42   2022-06-01 09:53:00\n",
       "43   2022-06-01 10:52:17\n",
       "44   2022-06-01 10:09:23\n",
       "45   2022-06-01 11:52:17\n",
       "46   2022-06-01 12:04:03\n",
       "47   2022-06-01 10:05:18\n",
       "48   2022-06-01 10:05:40\n",
       "49   2022-06-01 10:29:45\n",
       "Name: dt_dep, dtype: datetime64[ns]"
      ]
     },
     "execution_count": 76,
     "metadata": {},
     "output_type": "execute_result"
    }
   ],
   "source": [
    "df[\"dt_dep\"].apply(lambda x: pd.to_datetime(x, unit='ms'))"
   ]
  },
  {
   "cell_type": "code",
   "execution_count": 6,
   "metadata": {},
   "outputs": [
    {
     "data": {
      "text/plain": [
       "Index(['flightid', 'origem', 'destino', 'dt_dep', 'dt_arr', 'day', 'hour',\n",
       "       'weekday', 'path', 'distance_path_km', 'avg_speed', 'avg_flightlevel',\n",
       "       'dt_prev', 'hora_metaf', 'metaf', 'aero_metaf', 'hora_metar', 'metar',\n",
       "       'aero_metar', 'snapshot_radar', 'hora_esperas', 'esperas',\n",
       "       'aero_esperas', 'hora_tcp', 'troca', 'aero_tcp', 'hora_tcr',\n",
       "       'aero_tcr'],\n",
       "      dtype='object')"
      ]
     },
     "execution_count": 6,
     "metadata": {},
     "output_type": "execute_result"
    }
   ],
   "source": [
    "df.columns"
   ]
  },
  {
   "cell_type": "markdown",
   "metadata": {},
   "source": [
    "# load metaf data"
   ]
  },
  {
   "cell_type": "code",
   "execution_count": 23,
   "metadata": {},
   "outputs": [],
   "source": [
    "metaf_2022_06_02 = pd.read_csv('../../data/bruto/metaf/metaf_2022-06-02_2022-06-02.csv')"
   ]
  },
  {
   "cell_type": "code",
   "execution_count": 31,
   "metadata": {},
   "outputs": [],
   "source": [
    "metaf_2022_06_01 = pd.read_csv('../../data/bruto/metaf/metaf_2022-06-01_2022-06-01.csv')"
   ]
  },
  {
   "cell_type": "code",
   "execution_count": 74,
   "metadata": {},
   "outputs": [],
   "source": [
    "metaf_2022_06_03 = pd.read_csv('../../data/bruto/metaf/metaf_2022-06-03_2022-06-03.csv')"
   ]
  },
  {
   "cell_type": "markdown",
   "metadata": {},
   "source": [
    "# exploratory analysis of metaf data"
   ]
  },
  {
   "cell_type": "code",
   "execution_count": 24,
   "metadata": {},
   "outputs": [
    {
     "data": {
      "text/html": [
       "<div>\n",
       "<style scoped>\n",
       "    .dataframe tbody tr th:only-of-type {\n",
       "        vertical-align: middle;\n",
       "    }\n",
       "\n",
       "    .dataframe tbody tr th {\n",
       "        vertical-align: top;\n",
       "    }\n",
       "\n",
       "    .dataframe thead th {\n",
       "        text-align: right;\n",
       "    }\n",
       "</style>\n",
       "<table border=\"1\" class=\"dataframe\">\n",
       "  <thead>\n",
       "    <tr style=\"text-align: right;\">\n",
       "      <th></th>\n",
       "      <th>hora</th>\n",
       "      <th>metaf</th>\n",
       "      <th>aero</th>\n",
       "    </tr>\n",
       "  </thead>\n",
       "  <tbody>\n",
       "    <tr>\n",
       "      <th>0</th>\n",
       "      <td>1654128000000</td>\n",
       "      <td>METAF SBGL 020000Z  10005KT CAVOK 24/21 Q1014=\\n</td>\n",
       "      <td>SBGL</td>\n",
       "    </tr>\n",
       "    <tr>\n",
       "      <th>1</th>\n",
       "      <td>1654131600000</td>\n",
       "      <td>METAF SBGL 020100Z  20003KT CAVOK 24/21 Q1014=\\n</td>\n",
       "      <td>SBGL</td>\n",
       "    </tr>\n",
       "    <tr>\n",
       "      <th>2</th>\n",
       "      <td>1654192800000</td>\n",
       "      <td>METAF SBGL 021800Z  20012KT 7000       OVC019 ...</td>\n",
       "      <td>SBGL</td>\n",
       "    </tr>\n",
       "    <tr>\n",
       "      <th>3</th>\n",
       "      <td>1654196400000</td>\n",
       "      <td>METAF SBGL 021900Z  20012KT 7000       OVC033 ...</td>\n",
       "      <td>SBGL</td>\n",
       "    </tr>\n",
       "    <tr>\n",
       "      <th>4</th>\n",
       "      <td>1654200000000</td>\n",
       "      <td>METAF SBGL 022000Z  20011KT 6000       OVC015 ...</td>\n",
       "      <td>SBGL</td>\n",
       "    </tr>\n",
       "  </tbody>\n",
       "</table>\n",
       "</div>"
      ],
      "text/plain": [
       "            hora                                              metaf  aero\n",
       "0  1654128000000   METAF SBGL 020000Z  10005KT CAVOK 24/21 Q1014=\\n  SBGL\n",
       "1  1654131600000   METAF SBGL 020100Z  20003KT CAVOK 24/21 Q1014=\\n  SBGL\n",
       "2  1654192800000  METAF SBGL 021800Z  20012KT 7000       OVC019 ...  SBGL\n",
       "3  1654196400000  METAF SBGL 021900Z  20012KT 7000       OVC033 ...  SBGL\n",
       "4  1654200000000  METAF SBGL 022000Z  20011KT 6000       OVC015 ...  SBGL"
      ]
     },
     "execution_count": 24,
     "metadata": {},
     "output_type": "execute_result"
    }
   ],
   "source": [
    "metaf_2022_06_02.head()"
   ]
  },
  {
   "cell_type": "markdown",
   "metadata": {},
   "source": [
    "### Hora data is in miliseconds (hour*3600000)"
   ]
  },
  {
   "cell_type": "code",
   "execution_count": null,
   "metadata": {},
   "outputs": [],
   "source": [
    "diff = metaf_2022_06_02[\"hora\"][0] - metaf_2022_06_01[\"hora\"][0]\n",
    "diff"
   ]
  },
  {
   "cell_type": "code",
   "execution_count": 35,
   "metadata": {},
   "outputs": [
    {
     "data": {
      "text/plain": [
       "24.0"
      ]
     },
     "execution_count": 35,
     "metadata": {},
     "output_type": "execute_result"
    }
   ],
   "source": [
    "diff/3600000"
   ]
  },
  {
   "cell_type": "code",
   "execution_count": 36,
   "metadata": {},
   "outputs": [
    {
     "data": {
      "text/plain": [
       "459480.0"
      ]
     },
     "execution_count": 36,
     "metadata": {},
     "output_type": "execute_result"
    }
   ],
   "source": [
    "metaf_2022_06_02[\"hora\"][0]/3600000"
   ]
  },
  {
   "cell_type": "code",
   "execution_count": 37,
   "metadata": {},
   "outputs": [],
   "source": [
    "metaf_2022_06_01[\"hora\"]=metaf_2022_06_01[\"hora\"]/3600000"
   ]
  },
  {
   "cell_type": "code",
   "execution_count": 39,
   "metadata": {},
   "outputs": [
    {
     "data": {
      "text/plain": [
       "count        96.000000\n",
       "mean     459467.500000\n",
       "std           6.958524\n",
       "min      459456.000000\n",
       "25%      459461.750000\n",
       "50%      459467.500000\n",
       "75%      459473.250000\n",
       "max      459479.000000\n",
       "Name: hora, dtype: float64"
      ]
     },
     "execution_count": 39,
     "metadata": {},
     "output_type": "execute_result"
    }
   ],
   "source": [
    "metaf_2022_06_01[\"hora\"].describe()"
   ]
  },
  {
   "cell_type": "code",
   "execution_count": 41,
   "metadata": {},
   "outputs": [
    {
     "data": {
      "text/plain": [
       "23.0"
      ]
     },
     "execution_count": 41,
     "metadata": {},
     "output_type": "execute_result"
    }
   ],
   "source": [
    "metaf_2022_06_01[\"hora\"].max()-metaf_2022_06_01[\"hora\"].min()"
   ]
  },
  {
   "cell_type": "code",
   "execution_count": 42,
   "metadata": {},
   "outputs": [],
   "source": [
    "metaf_2022_06_02[\"hora\"]=metaf_2022_06_02[\"hora\"]/3600000"
   ]
  },
  {
   "cell_type": "code",
   "execution_count": 44,
   "metadata": {},
   "outputs": [
    {
     "data": {
      "text/plain": [
       "-1.0"
      ]
     },
     "execution_count": 44,
     "metadata": {},
     "output_type": "execute_result"
    }
   ],
   "source": [
    "metaf_2022_06_01[\"hora\"].max()-metaf_2022_06_02[\"hora\"].min()"
   ]
  },
  {
   "cell_type": "markdown",
   "metadata": {},
   "source": [
    "### data is hourly"
   ]
  },
  {
   "cell_type": "code",
   "execution_count": 47,
   "metadata": {},
   "outputs": [
    {
     "data": {
      "text/plain": [
       "1.0"
      ]
     },
     "execution_count": 47,
     "metadata": {},
     "output_type": "execute_result"
    }
   ],
   "source": [
    "metaf_2022_06_01[\"hora\"][1]-metaf_2022_06_01[\"hora\"][0]\n"
   ]
  },
  {
   "cell_type": "markdown",
   "metadata": {},
   "source": [
    "### there is data represented for 4 airports"
   ]
  },
  {
   "cell_type": "code",
   "execution_count": 51,
   "metadata": {},
   "outputs": [
    {
     "data": {
      "text/html": [
       "<div>\n",
       "<style scoped>\n",
       "    .dataframe tbody tr th:only-of-type {\n",
       "        vertical-align: middle;\n",
       "    }\n",
       "\n",
       "    .dataframe tbody tr th {\n",
       "        vertical-align: top;\n",
       "    }\n",
       "\n",
       "    .dataframe thead th {\n",
       "        text-align: right;\n",
       "    }\n",
       "</style>\n",
       "<table border=\"1\" class=\"dataframe\">\n",
       "  <thead>\n",
       "    <tr style=\"text-align: right;\">\n",
       "      <th></th>\n",
       "      <th>hora</th>\n",
       "      <th>metaf</th>\n",
       "      <th>aero</th>\n",
       "    </tr>\n",
       "  </thead>\n",
       "  <tbody>\n",
       "    <tr>\n",
       "      <th>0</th>\n",
       "      <td>459456.0</td>\n",
       "      <td>METAF SBGL 010000Z  25002KT 3000     BR OVC033...</td>\n",
       "      <td>SBGL</td>\n",
       "    </tr>\n",
       "    <tr>\n",
       "      <th>24</th>\n",
       "      <td>459456.0</td>\n",
       "      <td>METAF SBGR 010000Z  12008KT 1000     BR OVC033...</td>\n",
       "      <td>SBGR</td>\n",
       "    </tr>\n",
       "    <tr>\n",
       "      <th>48</th>\n",
       "      <td>459456.0</td>\n",
       "      <td>METAF SBKP 010000Z  12013KT 5000     BR BKN033...</td>\n",
       "      <td>SBKP</td>\n",
       "    </tr>\n",
       "    <tr>\n",
       "      <th>72</th>\n",
       "      <td>459456.0</td>\n",
       "      <td>METAF SBSP 010000Z  13008KT 1000     BR OVC033...</td>\n",
       "      <td>SBSP</td>\n",
       "    </tr>\n",
       "  </tbody>\n",
       "</table>\n",
       "</div>"
      ],
      "text/plain": [
       "        hora                                              metaf  aero\n",
       "0   459456.0  METAF SBGL 010000Z  25002KT 3000     BR OVC033...  SBGL\n",
       "24  459456.0  METAF SBGR 010000Z  12008KT 1000     BR OVC033...  SBGR\n",
       "48  459456.0  METAF SBKP 010000Z  12013KT 5000     BR BKN033...  SBKP\n",
       "72  459456.0  METAF SBSP 010000Z  13008KT 1000     BR OVC033...  SBSP"
      ]
     },
     "execution_count": 51,
     "metadata": {},
     "output_type": "execute_result"
    }
   ],
   "source": [
    "metaf_2022_06_01[metaf_2022_06_01[\"hora\"]==metaf_2022_06_01[\"hora\"].min()]"
   ]
  },
  {
   "cell_type": "code",
   "execution_count": 52,
   "metadata": {},
   "outputs": [
    {
     "data": {
      "text/plain": [
       "count       96\n",
       "unique       4\n",
       "top       SBGL\n",
       "freq        24\n",
       "Name: aero, dtype: object"
      ]
     },
     "execution_count": 52,
     "metadata": {},
     "output_type": "execute_result"
    }
   ],
   "source": [
    "metaf_2022_06_01[\"aero\"].describe()"
   ]
  },
  {
   "cell_type": "code",
   "execution_count": 53,
   "metadata": {},
   "outputs": [],
   "source": [
    "metaf_2022_06_01_SBGL = metaf_2022_06_01[metaf_2022_06_01[\"aero\"]==\"SBGL\"]"
   ]
  },
  {
   "cell_type": "code",
   "execution_count": 54,
   "metadata": {},
   "outputs": [
    {
     "data": {
      "text/plain": [
       "count        24.000000\n",
       "mean     459467.500000\n",
       "std           7.071068\n",
       "min      459456.000000\n",
       "25%      459461.750000\n",
       "50%      459467.500000\n",
       "75%      459473.250000\n",
       "max      459479.000000\n",
       "Name: hora, dtype: float64"
      ]
     },
     "execution_count": 54,
     "metadata": {},
     "output_type": "execute_result"
    }
   ],
   "source": [
    "metaf_2022_06_01_SBGL[\"hora\"].describe()"
   ]
  },
  {
   "cell_type": "code",
   "execution_count": 55,
   "metadata": {},
   "outputs": [],
   "source": [
    "metaf_2022_06_02_SBGL = metaf_2022_06_02[metaf_2022_06_02[\"aero\"]==\"SBGL\"]"
   ]
  },
  {
   "cell_type": "code",
   "execution_count": 56,
   "metadata": {},
   "outputs": [
    {
     "data": {
      "text/plain": [
       "count         8.000000\n",
       "mean     459495.500000\n",
       "std           9.396048\n",
       "min      459480.000000\n",
       "25%      459493.750000\n",
       "50%      459499.500000\n",
       "75%      459501.250000\n",
       "max      459503.000000\n",
       "Name: hora, dtype: float64"
      ]
     },
     "execution_count": 56,
     "metadata": {},
     "output_type": "execute_result"
    }
   ],
   "source": [
    "metaf_2022_06_02_SBGL[\"hora\"].describe()"
   ]
  },
  {
   "cell_type": "code",
   "execution_count": 57,
   "metadata": {},
   "outputs": [
    {
     "data": {
      "text/plain": [
       "count       32\n",
       "unique       4\n",
       "top       SBGL\n",
       "freq         8\n",
       "Name: aero, dtype: object"
      ]
     },
     "execution_count": 57,
     "metadata": {},
     "output_type": "execute_result"
    }
   ],
   "source": [
    "metaf_2022_06_02[\"aero\"].describe()"
   ]
  },
  {
   "cell_type": "code",
   "execution_count": 59,
   "metadata": {},
   "outputs": [
    {
     "data": {
      "text/plain": [
       "array(['SBGL', 'SBGR', 'SBKP', 'SBSP'], dtype=object)"
      ]
     },
     "execution_count": 59,
     "metadata": {},
     "output_type": "execute_result"
    }
   ],
   "source": [
    "metaf_2022_06_02[\"aero\"].unique()"
   ]
  },
  {
   "cell_type": "markdown",
   "metadata": {},
   "source": [
    "### data is consistent from day to day"
   ]
  },
  {
   "cell_type": "code",
   "execution_count": 60,
   "metadata": {},
   "outputs": [
    {
     "data": {
      "text/plain": [
       "array([ True,  True,  True,  True])"
      ]
     },
     "execution_count": 60,
     "metadata": {},
     "output_type": "execute_result"
    }
   ],
   "source": [
    "metaf_2022_06_02[\"aero\"].unique() == metaf_2022_06_01[\"aero\"].unique()  "
   ]
  },
  {
   "cell_type": "code",
   "execution_count": 72,
   "metadata": {},
   "outputs": [],
   "source": [
    "metaf_2022_06_01[\"hora_dt\"] = metaf_2022_06_01[\"hora\"].apply(lambda x: pd.to_datetime(x, unit='h'))\n",
    "metaf_2022_06_02[\"hora_dt\"] = metaf_2022_06_02[\"hora\"].apply(lambda x: pd.to_datetime(x, unit='h'))"
   ]
  },
  {
   "cell_type": "code",
   "execution_count": 75,
   "metadata": {},
   "outputs": [
    {
     "data": {
      "text/plain": [
       "0   2022-06-03 00:00:00\n",
       "1   2022-06-03 01:00:00\n",
       "2   2022-06-03 02:00:00\n",
       "3   2022-06-03 03:00:00\n",
       "4   2022-06-03 04:00:00\n",
       "Name: hora_dt, dtype: datetime64[ns]"
      ]
     },
     "execution_count": 75,
     "metadata": {},
     "output_type": "execute_result"
    }
   ],
   "source": [
    "metaf_2022_06_03[\"hora_dt\"] = metaf_2022_06_03[\"hora\"].apply(lambda x: pd.to_datetime(x, unit='ms'))\n",
    "metaf_2022_06_03[\"hora_dt\"].head()"
   ]
  },
  {
   "cell_type": "markdown",
   "metadata": {},
   "source": [
    "# daily data for june"
   ]
  },
  {
   "cell_type": "code",
   "execution_count": 90,
   "metadata": {},
   "outputs": [
    {
     "data": {
      "text/html": [
       "<div>\n",
       "<style scoped>\n",
       "    .dataframe tbody tr th:only-of-type {\n",
       "        vertical-align: middle;\n",
       "    }\n",
       "\n",
       "    .dataframe tbody tr th {\n",
       "        vertical-align: top;\n",
       "    }\n",
       "\n",
       "    .dataframe thead th {\n",
       "        text-align: right;\n",
       "    }\n",
       "</style>\n",
       "<table border=\"1\" class=\"dataframe\">\n",
       "  <thead>\n",
       "    <tr style=\"text-align: right;\">\n",
       "      <th></th>\n",
       "      <th>hora</th>\n",
       "    </tr>\n",
       "  </thead>\n",
       "  <tbody>\n",
       "    <tr>\n",
       "      <th>count</th>\n",
       "      <td>2.312000e+03</td>\n",
       "    </tr>\n",
       "    <tr>\n",
       "      <th>mean</th>\n",
       "      <td>1.655445e+12</td>\n",
       "    </tr>\n",
       "    <tr>\n",
       "      <th>std</th>\n",
       "      <td>7.349957e+08</td>\n",
       "    </tr>\n",
       "    <tr>\n",
       "      <th>min</th>\n",
       "      <td>1.654042e+12</td>\n",
       "    </tr>\n",
       "    <tr>\n",
       "      <th>25%</th>\n",
       "      <td>1.654848e+12</td>\n",
       "    </tr>\n",
       "    <tr>\n",
       "      <th>50%</th>\n",
       "      <td>1.655555e+12</td>\n",
       "    </tr>\n",
       "    <tr>\n",
       "      <th>75%</th>\n",
       "      <td>1.656076e+12</td>\n",
       "    </tr>\n",
       "    <tr>\n",
       "      <th>max</th>\n",
       "      <td>1.656630e+12</td>\n",
       "    </tr>\n",
       "  </tbody>\n",
       "</table>\n",
       "</div>"
      ],
      "text/plain": [
       "               hora\n",
       "count  2.312000e+03\n",
       "mean   1.655445e+12\n",
       "std    7.349957e+08\n",
       "min    1.654042e+12\n",
       "25%    1.654848e+12\n",
       "50%    1.655555e+12\n",
       "75%    1.656076e+12\n",
       "max    1.656630e+12"
      ]
     },
     "execution_count": 90,
     "metadata": {},
     "output_type": "execute_result"
    }
   ],
   "source": [
    "file_path = '../../data/processado/metaf/metaf_2022-06-01_2022-06-30.csv'\n",
    "metaf_june_2022 = pd.read_csv(file_path)\n",
    "metaf_june_2022.describe()"
   ]
  },
  {
   "cell_type": "code",
   "execution_count": 91,
   "metadata": {},
   "outputs": [
    {
     "data": {
      "text/html": [
       "<div>\n",
       "<style scoped>\n",
       "    .dataframe tbody tr th:only-of-type {\n",
       "        vertical-align: middle;\n",
       "    }\n",
       "\n",
       "    .dataframe tbody tr th {\n",
       "        vertical-align: top;\n",
       "    }\n",
       "\n",
       "    .dataframe thead th {\n",
       "        text-align: right;\n",
       "    }\n",
       "</style>\n",
       "<table border=\"1\" class=\"dataframe\">\n",
       "  <thead>\n",
       "    <tr style=\"text-align: right;\">\n",
       "      <th></th>\n",
       "      <th>hora</th>\n",
       "      <th>metaf</th>\n",
       "      <th>aero</th>\n",
       "      <th>hora_dt</th>\n",
       "    </tr>\n",
       "  </thead>\n",
       "  <tbody>\n",
       "    <tr>\n",
       "      <th>0</th>\n",
       "      <td>1654041600000</td>\n",
       "      <td>METAF SBGL 010000Z  25002KT 3000     BR OVC033...</td>\n",
       "      <td>SBGL</td>\n",
       "      <td>2022-06-01 00:00:00</td>\n",
       "    </tr>\n",
       "    <tr>\n",
       "      <th>1</th>\n",
       "      <td>1654045200000</td>\n",
       "      <td>METAF SBGL 010100Z 02001KT 2000     BR OVC011 ...</td>\n",
       "      <td>SBGL</td>\n",
       "      <td>2022-06-01 01:00:00</td>\n",
       "    </tr>\n",
       "    <tr>\n",
       "      <th>2</th>\n",
       "      <td>1654048800000</td>\n",
       "      <td>METAF SBGL 010200Z 09000KT 2000     BR OVC011 ...</td>\n",
       "      <td>SBGL</td>\n",
       "      <td>2022-06-01 02:00:00</td>\n",
       "    </tr>\n",
       "    <tr>\n",
       "      <th>3</th>\n",
       "      <td>1654052400000</td>\n",
       "      <td>METAF SBGL 010300Z 09002KT 1000    RABR OVC033...</td>\n",
       "      <td>SBGL</td>\n",
       "      <td>2022-06-01 03:00:00</td>\n",
       "    </tr>\n",
       "    <tr>\n",
       "      <th>4</th>\n",
       "      <td>1654056000000</td>\n",
       "      <td>METAF SBGL 010400Z 07003KT 1000    RABR OVC033...</td>\n",
       "      <td>SBGL</td>\n",
       "      <td>2022-06-01 04:00:00</td>\n",
       "    </tr>\n",
       "  </tbody>\n",
       "</table>\n",
       "</div>"
      ],
      "text/plain": [
       "            hora                                              metaf  aero  \\\n",
       "0  1654041600000  METAF SBGL 010000Z  25002KT 3000     BR OVC033...  SBGL   \n",
       "1  1654045200000  METAF SBGL 010100Z 02001KT 2000     BR OVC011 ...  SBGL   \n",
       "2  1654048800000  METAF SBGL 010200Z 09000KT 2000     BR OVC011 ...  SBGL   \n",
       "3  1654052400000  METAF SBGL 010300Z 09002KT 1000    RABR OVC033...  SBGL   \n",
       "4  1654056000000  METAF SBGL 010400Z 07003KT 1000    RABR OVC033...  SBGL   \n",
       "\n",
       "               hora_dt  \n",
       "0  2022-06-01 00:00:00  \n",
       "1  2022-06-01 01:00:00  \n",
       "2  2022-06-01 02:00:00  \n",
       "3  2022-06-01 03:00:00  \n",
       "4  2022-06-01 04:00:00  "
      ]
     },
     "execution_count": 91,
     "metadata": {},
     "output_type": "execute_result"
    }
   ],
   "source": [
    "metaf_june_2022.head()"
   ]
  },
  {
   "cell_type": "code",
   "execution_count": 92,
   "metadata": {},
   "outputs": [],
   "source": [
    "metaf_june_2022_SBGL = metaf_june_2022[metaf_june_2022[\"aero\"]==\"SBGL\"]"
   ]
  },
  {
   "cell_type": "code",
   "execution_count": 93,
   "metadata": {},
   "outputs": [
    {
     "data": {
      "text/html": [
       "<div>\n",
       "<style scoped>\n",
       "    .dataframe tbody tr th:only-of-type {\n",
       "        vertical-align: middle;\n",
       "    }\n",
       "\n",
       "    .dataframe tbody tr th {\n",
       "        vertical-align: top;\n",
       "    }\n",
       "\n",
       "    .dataframe thead th {\n",
       "        text-align: right;\n",
       "    }\n",
       "</style>\n",
       "<table border=\"1\" class=\"dataframe\">\n",
       "  <thead>\n",
       "    <tr style=\"text-align: right;\">\n",
       "      <th></th>\n",
       "      <th>hora</th>\n",
       "      <th>metaf</th>\n",
       "      <th>aero</th>\n",
       "      <th>hora_dt</th>\n",
       "    </tr>\n",
       "  </thead>\n",
       "  <tbody>\n",
       "    <tr>\n",
       "      <th>0</th>\n",
       "      <td>1654041600000</td>\n",
       "      <td>METAF SBGL 010000Z  25002KT 3000     BR OVC033...</td>\n",
       "      <td>SBGL</td>\n",
       "      <td>2022-06-01 00:00:00</td>\n",
       "    </tr>\n",
       "    <tr>\n",
       "      <th>1</th>\n",
       "      <td>1654045200000</td>\n",
       "      <td>METAF SBGL 010100Z 02001KT 2000     BR OVC011 ...</td>\n",
       "      <td>SBGL</td>\n",
       "      <td>2022-06-01 01:00:00</td>\n",
       "    </tr>\n",
       "    <tr>\n",
       "      <th>2</th>\n",
       "      <td>1654048800000</td>\n",
       "      <td>METAF SBGL 010200Z 09000KT 2000     BR OVC011 ...</td>\n",
       "      <td>SBGL</td>\n",
       "      <td>2022-06-01 02:00:00</td>\n",
       "    </tr>\n",
       "    <tr>\n",
       "      <th>3</th>\n",
       "      <td>1654052400000</td>\n",
       "      <td>METAF SBGL 010300Z 09002KT 1000    RABR OVC033...</td>\n",
       "      <td>SBGL</td>\n",
       "      <td>2022-06-01 03:00:00</td>\n",
       "    </tr>\n",
       "    <tr>\n",
       "      <th>4</th>\n",
       "      <td>1654056000000</td>\n",
       "      <td>METAF SBGL 010400Z 07003KT 1000    RABR OVC033...</td>\n",
       "      <td>SBGL</td>\n",
       "      <td>2022-06-01 04:00:00</td>\n",
       "    </tr>\n",
       "  </tbody>\n",
       "</table>\n",
       "</div>"
      ],
      "text/plain": [
       "            hora                                              metaf  aero  \\\n",
       "0  1654041600000  METAF SBGL 010000Z  25002KT 3000     BR OVC033...  SBGL   \n",
       "1  1654045200000  METAF SBGL 010100Z 02001KT 2000     BR OVC011 ...  SBGL   \n",
       "2  1654048800000  METAF SBGL 010200Z 09000KT 2000     BR OVC011 ...  SBGL   \n",
       "3  1654052400000  METAF SBGL 010300Z 09002KT 1000    RABR OVC033...  SBGL   \n",
       "4  1654056000000  METAF SBGL 010400Z 07003KT 1000    RABR OVC033...  SBGL   \n",
       "\n",
       "               hora_dt  \n",
       "0  2022-06-01 00:00:00  \n",
       "1  2022-06-01 01:00:00  \n",
       "2  2022-06-01 02:00:00  \n",
       "3  2022-06-01 03:00:00  \n",
       "4  2022-06-01 04:00:00  "
      ]
     },
     "execution_count": 93,
     "metadata": {},
     "output_type": "execute_result"
    }
   ],
   "source": [
    "metaf_june_2022_SBGL.head()"
   ]
  },
  {
   "cell_type": "code",
   "execution_count": 100,
   "metadata": {},
   "outputs": [
    {
     "data": {
      "text/plain": [
       "hora        int64\n",
       "metaf      object\n",
       "aero       object\n",
       "hora_dt    object\n",
       "dtype: object"
      ]
     },
     "execution_count": 100,
     "metadata": {},
     "output_type": "execute_result"
    }
   ],
   "source": [
    "metaf_june_2022_SBGL.dtypes"
   ]
  },
  {
   "cell_type": "code",
   "execution_count": 101,
   "metadata": {},
   "outputs": [
    {
     "ename": "AttributeError",
     "evalue": "'Series' object has no attribute 'to_datetime'",
     "output_type": "error",
     "traceback": [
      "\u001b[0;31m---------------------------------------------------------------------------\u001b[0m",
      "\u001b[0;31mAttributeError\u001b[0m                            Traceback (most recent call last)",
      "\u001b[0;32m/var/folders/41/c6rc607d4ns7r7h72ycqgkn00000gn/T/ipykernel_4155/2480972346.py\u001b[0m in \u001b[0;36m?\u001b[0;34m()\u001b[0m\n\u001b[0;32m----> 1\u001b[0;31m \u001b[0mmetaf_june_2022_SBGL\u001b[0m\u001b[0;34m[\u001b[0m\u001b[0;34m\"hora_dt\"\u001b[0m\u001b[0;34m]\u001b[0m\u001b[0;34m.\u001b[0m\u001b[0mto_datetime\u001b[0m\u001b[0;34m(\u001b[0m\u001b[0;34m)\u001b[0m\u001b[0;34m\u001b[0m\u001b[0;34m\u001b[0m\u001b[0m\n\u001b[0m",
      "\u001b[0;32m~/miniconda3/envs/ita/lib/python3.11/site-packages/pandas/core/generic.py\u001b[0m in \u001b[0;36m?\u001b[0;34m(self, name)\u001b[0m\n\u001b[1;32m   6198\u001b[0m             \u001b[0;32mand\u001b[0m \u001b[0mname\u001b[0m \u001b[0;32mnot\u001b[0m \u001b[0;32min\u001b[0m \u001b[0mself\u001b[0m\u001b[0;34m.\u001b[0m\u001b[0m_accessors\u001b[0m\u001b[0;34m\u001b[0m\u001b[0;34m\u001b[0m\u001b[0m\n\u001b[1;32m   6199\u001b[0m             \u001b[0;32mand\u001b[0m \u001b[0mself\u001b[0m\u001b[0;34m.\u001b[0m\u001b[0m_info_axis\u001b[0m\u001b[0;34m.\u001b[0m\u001b[0m_can_hold_identifiers_and_holds_name\u001b[0m\u001b[0;34m(\u001b[0m\u001b[0mname\u001b[0m\u001b[0;34m)\u001b[0m\u001b[0;34m\u001b[0m\u001b[0;34m\u001b[0m\u001b[0m\n\u001b[1;32m   6200\u001b[0m         ):\n\u001b[1;32m   6201\u001b[0m             \u001b[0;32mreturn\u001b[0m \u001b[0mself\u001b[0m\u001b[0;34m[\u001b[0m\u001b[0mname\u001b[0m\u001b[0;34m]\u001b[0m\u001b[0;34m\u001b[0m\u001b[0;34m\u001b[0m\u001b[0m\n\u001b[0;32m-> 6202\u001b[0;31m         \u001b[0;32mreturn\u001b[0m \u001b[0mobject\u001b[0m\u001b[0;34m.\u001b[0m\u001b[0m__getattribute__\u001b[0m\u001b[0;34m(\u001b[0m\u001b[0mself\u001b[0m\u001b[0;34m,\u001b[0m \u001b[0mname\u001b[0m\u001b[0;34m)\u001b[0m\u001b[0;34m\u001b[0m\u001b[0;34m\u001b[0m\u001b[0m\n\u001b[0m",
      "\u001b[0;31mAttributeError\u001b[0m: 'Series' object has no attribute 'to_datetime'"
     ]
    }
   ],
   "source": [
    "metaf_june_2022_SBGL[\"hora_dt\"]"
   ]
  }
 ],
 "metadata": {
  "kernelspec": {
   "display_name": "Python 3 (ipykernel)",
   "language": "python",
   "name": "python3"
  },
  "language_info": {
   "codemirror_mode": {
    "name": "ipython",
    "version": 3
   },
   "file_extension": ".py",
   "mimetype": "text/x-python",
   "name": "python",
   "nbconvert_exporter": "python",
   "pygments_lexer": "ipython3",
   "version": "3.11.5"
  },
  "orig_nbformat": 4
 },
 "nbformat": 4,
 "nbformat_minor": 2
}
