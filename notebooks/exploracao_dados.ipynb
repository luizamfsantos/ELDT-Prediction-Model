{
 "cells": [
  {
   "cell_type": "markdown",
   "metadata": {},
   "source": [
    "# import libraries"
   ]
  },
  {
   "cell_type": "code",
   "execution_count": 6,
   "metadata": {},
   "outputs": [],
   "source": [
    "# import libraries\n",
    "import numpy as np\n",
    "import pandas as pd\n",
    "import matplotlib.pyplot as plt\n",
    "import os, sys\n",
    "\n",
    "# add current directory to system path\n",
    "sys.path.append(os.getcwd())\n",
    "\n",
    "# import limpeza_dados\n",
    "from src.preprocessamento_de_dados.limpeza_dados import *"
   ]
  },
  {
   "cell_type": "markdown",
   "metadata": {},
   "source": [
    "### METAF Data\n",
    "- 'hora' data is in miliseconds (hour*3600000)\n",
    "- data is hourly\n",
    "- there are 4 airports represented\n",
    "- data is consistent from day to day"
   ]
  },
  {
   "cell_type": "markdown",
   "metadata": {},
   "source": [
    "# daily metaf data for june"
   ]
  },
  {
   "cell_type": "code",
   "execution_count": 14,
   "metadata": {},
   "outputs": [
    {
     "data": {
      "text/html": [
       "<div>\n",
       "<style scoped>\n",
       "    .dataframe tbody tr th:only-of-type {\n",
       "        vertical-align: middle;\n",
       "    }\n",
       "\n",
       "    .dataframe tbody tr th {\n",
       "        vertical-align: top;\n",
       "    }\n",
       "\n",
       "    .dataframe thead th {\n",
       "        text-align: right;\n",
       "    }\n",
       "</style>\n",
       "<table border=\"1\" class=\"dataframe\">\n",
       "  <thead>\n",
       "    <tr style=\"text-align: right;\">\n",
       "      <th></th>\n",
       "      <th>hora</th>\n",
       "      <th>metaf</th>\n",
       "      <th>aero</th>\n",
       "      <th>hora_dt</th>\n",
       "    </tr>\n",
       "  </thead>\n",
       "  <tbody>\n",
       "    <tr>\n",
       "      <th>0</th>\n",
       "      <td>1654041600000</td>\n",
       "      <td>METAF SBGL 010000Z  25002KT 3000     BR OVC033...</td>\n",
       "      <td>SBGL</td>\n",
       "      <td>2022-06-01 00:00:00</td>\n",
       "    </tr>\n",
       "    <tr>\n",
       "      <th>1</th>\n",
       "      <td>1654045200000</td>\n",
       "      <td>METAF SBGL 010100Z 02001KT 2000     BR OVC011 ...</td>\n",
       "      <td>SBGL</td>\n",
       "      <td>2022-06-01 01:00:00</td>\n",
       "    </tr>\n",
       "    <tr>\n",
       "      <th>2</th>\n",
       "      <td>1654048800000</td>\n",
       "      <td>METAF SBGL 010200Z 09000KT 2000     BR OVC011 ...</td>\n",
       "      <td>SBGL</td>\n",
       "      <td>2022-06-01 02:00:00</td>\n",
       "    </tr>\n",
       "    <tr>\n",
       "      <th>3</th>\n",
       "      <td>1654052400000</td>\n",
       "      <td>METAF SBGL 010300Z 09002KT 1000    RABR OVC033...</td>\n",
       "      <td>SBGL</td>\n",
       "      <td>2022-06-01 03:00:00</td>\n",
       "    </tr>\n",
       "    <tr>\n",
       "      <th>4</th>\n",
       "      <td>1654056000000</td>\n",
       "      <td>METAF SBGL 010400Z 07003KT 1000    RABR OVC033...</td>\n",
       "      <td>SBGL</td>\n",
       "      <td>2022-06-01 04:00:00</td>\n",
       "    </tr>\n",
       "  </tbody>\n",
       "</table>\n",
       "</div>"
      ],
      "text/plain": [
       "            hora                                              metaf  aero  \\\n",
       "0  1654041600000  METAF SBGL 010000Z  25002KT 3000     BR OVC033...  SBGL   \n",
       "1  1654045200000  METAF SBGL 010100Z 02001KT 2000     BR OVC011 ...  SBGL   \n",
       "2  1654048800000  METAF SBGL 010200Z 09000KT 2000     BR OVC011 ...  SBGL   \n",
       "3  1654052400000  METAF SBGL 010300Z 09002KT 1000    RABR OVC033...  SBGL   \n",
       "4  1654056000000  METAF SBGL 010400Z 07003KT 1000    RABR OVC033...  SBGL   \n",
       "\n",
       "               hora_dt  \n",
       "0  2022-06-01 00:00:00  \n",
       "1  2022-06-01 01:00:00  \n",
       "2  2022-06-01 02:00:00  \n",
       "3  2022-06-01 03:00:00  \n",
       "4  2022-06-01 04:00:00  "
      ]
     },
     "execution_count": 14,
     "metadata": {},
     "output_type": "execute_result"
    }
   ],
   "source": [
    "file_path = '../data/processado/metaf/metaf_2022-06-01_2022-06-30.csv'\n",
    "metaf_june_2022 = pd.read_csv(file_path)\n",
    "metaf_june_2022.head()\n",
    "# cws = os.getcwd()\n",
    "# print(cws)"
   ]
  },
  {
   "cell_type": "markdown",
   "metadata": {},
   "source": [
    "### metaf_june_2022 columns\n",
    "METAF has 4 columns: hora, metaf, aero, hora_dt"
   ]
  },
  {
   "cell_type": "code",
   "execution_count": 28,
   "metadata": {},
   "outputs": [
    {
     "data": {
      "text/plain": [
       "hora        int64\n",
       "metaf      object\n",
       "aero       object\n",
       "hora_dt    object\n",
       "dtype: object"
      ]
     },
     "execution_count": 28,
     "metadata": {},
     "output_type": "execute_result"
    }
   ],
   "source": [
    "metaf_june_2022.dtypes"
   ]
  },
  {
   "cell_type": "markdown",
   "metadata": {},
   "source": [
    "### hora_dt column"
   ]
  },
  {
   "cell_type": "code",
   "execution_count": 29,
   "metadata": {},
   "outputs": [],
   "source": [
    "metaf_june_2022[\"hora_dt\"] = pd.to_datetime(metaf_june_2022[\"hora_dt\"])"
   ]
  },
  {
   "cell_type": "code",
   "execution_count": 30,
   "metadata": {},
   "outputs": [
    {
     "data": {
      "text/plain": [
       "count                             2312\n",
       "mean     2022-06-17 05:57:36.747404800\n",
       "min                2022-06-01 00:00:00\n",
       "25%                2022-06-10 08:00:00\n",
       "50%                2022-06-18 12:30:00\n",
       "75%                2022-06-24 13:00:00\n",
       "max                2022-06-30 23:00:00\n",
       "Name: hora_dt, dtype: object"
      ]
     },
     "execution_count": 30,
     "metadata": {},
     "output_type": "execute_result"
    }
   ],
   "source": [
    "metaf_june_2022[\"hora_dt\"].describe()"
   ]
  },
  {
   "cell_type": "code",
   "execution_count": 31,
   "metadata": {},
   "outputs": [],
   "source": [
    "# set index [hora_dt, aero]\n",
    "# metaf_june_2022.set_index([\"hora_dt\", \"aero\"], inplace=True)"
   ]
  },
  {
   "cell_type": "markdown",
   "metadata": {},
   "source": [
    "### Metaf column\n",
    "CAVOK: Ceiling And Visibility OK"
   ]
  },
  {
   "cell_type": "markdown",
   "metadata": {},
   "source": [
    "### Metaf for airport SBGL"
   ]
  },
  {
   "cell_type": "code",
   "execution_count": 17,
   "metadata": {},
   "outputs": [],
   "source": [
    "metaf_june_2022_SBGL = metaf_june_2022[metaf_june_2022[\"aero\"]==\"SBGL\"].copy()"
   ]
  },
  {
   "cell_type": "code",
   "execution_count": 19,
   "metadata": {},
   "outputs": [],
   "source": [
    "from random import randint\n",
    "from random import seed\n",
    "# create a list of random integers\n",
    "seed(1)\n",
    "randomlist = [randint(0, 100) for i in range(0, 5)]"
   ]
  },
  {
   "cell_type": "code",
   "execution_count": 20,
   "metadata": {},
   "outputs": [
    {
     "data": {
      "text/html": [
       "<div>\n",
       "<style scoped>\n",
       "    .dataframe tbody tr th:only-of-type {\n",
       "        vertical-align: middle;\n",
       "    }\n",
       "\n",
       "    .dataframe tbody tr th {\n",
       "        vertical-align: top;\n",
       "    }\n",
       "\n",
       "    .dataframe thead th {\n",
       "        text-align: right;\n",
       "    }\n",
       "</style>\n",
       "<table border=\"1\" class=\"dataframe\">\n",
       "  <thead>\n",
       "    <tr style=\"text-align: right;\">\n",
       "      <th></th>\n",
       "      <th>hora</th>\n",
       "      <th>metaf</th>\n",
       "      <th>aero</th>\n",
       "      <th>hora_dt</th>\n",
       "    </tr>\n",
       "  </thead>\n",
       "  <tbody>\n",
       "    <tr>\n",
       "      <th>17</th>\n",
       "      <td>1654102800000</td>\n",
       "      <td>METAF SBGL 011700Z  17005KT 9999       SCT033 ...</td>\n",
       "      <td>SBGL</td>\n",
       "      <td>2022-06-01 17:00:00</td>\n",
       "    </tr>\n",
       "    <tr>\n",
       "      <th>264</th>\n",
       "      <td>1654588800000</td>\n",
       "      <td>METAF SBGL 070800Z  18004KT CAVOK 21/15 Q1014=\\n</td>\n",
       "      <td>SBGL</td>\n",
       "      <td>2022-06-07 08:00:00</td>\n",
       "    </tr>\n",
       "    <tr>\n",
       "      <th>361</th>\n",
       "      <td>1654678800000</td>\n",
       "      <td>METAF SBGL 080900Z  32004KT 4000     BR OVC024...</td>\n",
       "      <td>SBGL</td>\n",
       "      <td>2022-06-08 09:00:00</td>\n",
       "    </tr>\n",
       "    <tr>\n",
       "      <th>8</th>\n",
       "      <td>1654070400000</td>\n",
       "      <td>METAF SBGL 010800Z 02003KT 1000     BR OVC033 ...</td>\n",
       "      <td>SBGL</td>\n",
       "      <td>2022-06-01 08:00:00</td>\n",
       "    </tr>\n",
       "    <tr>\n",
       "      <th>128</th>\n",
       "      <td>1654214400000</td>\n",
       "      <td>METAF SBGL 030000Z  26006KT 7000       OVC033 ...</td>\n",
       "      <td>SBGL</td>\n",
       "      <td>2022-06-03 00:00:00</td>\n",
       "    </tr>\n",
       "  </tbody>\n",
       "</table>\n",
       "</div>"
      ],
      "text/plain": [
       "              hora                                              metaf  aero  \\\n",
       "17   1654102800000  METAF SBGL 011700Z  17005KT 9999       SCT033 ...  SBGL   \n",
       "264  1654588800000   METAF SBGL 070800Z  18004KT CAVOK 21/15 Q1014=\\n  SBGL   \n",
       "361  1654678800000  METAF SBGL 080900Z  32004KT 4000     BR OVC024...  SBGL   \n",
       "8    1654070400000  METAF SBGL 010800Z 02003KT 1000     BR OVC033 ...  SBGL   \n",
       "128  1654214400000  METAF SBGL 030000Z  26006KT 7000       OVC033 ...  SBGL   \n",
       "\n",
       "                 hora_dt  \n",
       "17   2022-06-01 17:00:00  \n",
       "264  2022-06-07 08:00:00  \n",
       "361  2022-06-08 09:00:00  \n",
       "8    2022-06-01 08:00:00  \n",
       "128  2022-06-03 00:00:00  "
      ]
     },
     "execution_count": 20,
     "metadata": {},
     "output_type": "execute_result"
    }
   ],
   "source": [
    "metaf_june_2022_SBGL.iloc[randomlist]"
   ]
  },
  {
   "cell_type": "code",
   "execution_count": 23,
   "metadata": {},
   "outputs": [],
   "source": [
    "from src.preprocessamento_de_dados.limpeza_dados import *\n",
    "metaf_june_2022_SBGL=expand_taf_metar(metaf_june_2022_SBGL)"
   ]
  },
  {
   "cell_type": "code",
   "execution_count": 25,
   "metadata": {},
   "outputs": [
    {
     "data": {
      "text/plain": [
       "Index([   0,    1,    2,    3,    4,    5,    6,    7,    8,    9,\n",
       "       ...\n",
       "       2230, 2231, 2232, 2233, 2234, 2235, 2236, 2237, 2238, 2239],\n",
       "      dtype='int64', length=578)"
      ]
     },
     "execution_count": 25,
     "metadata": {},
     "output_type": "execute_result"
    }
   ],
   "source": [
    "metaf_june_2022_SBGL.index"
   ]
  },
  {
   "cell_type": "code",
   "execution_count": 39,
   "metadata": {},
   "outputs": [
    {
     "name": "stdout",
     "output_type": "stream",
     "text": [
      "METAF,SBGL,011600Z,15003KT,0000,SCT033,25,20,Q1013\n",
      "METAF,SBGL,011700Z,17005KT,0000,SCT033,26,20,Q1013\n",
      "METAF,SBGL,011800Z,15008KT,0000,SCT030,26,21,Q1013\n",
      "METAF,SBGL,011900Z,13009KT,0000,FEW033,26,21,Q1013\n",
      "METAF,SBGL,012300Z,09007KT,10000,CAVOK,24,21,Q1014\n",
      "METAF,SBGL,020000Z,10005KT,10000,CAVOK,24,21,Q1014\n",
      "METAF,SBGL,020100Z,20003KT,10000,CAVOK,24,21,Q1014\n",
      "METAF,SBGL,031900Z,23005KT,0000,OVC027,23,19,Q1017\n",
      "METAF,SBGL,032000Z,24006KT,0000,BKN027,23,18,Q1018\n",
      "METAF,SBGL,032100Z,25006KT,0000,BKN023,23,18,Q1018\n",
      "METAF,SBGL,061800Z,17003KT,10000,CAVOK,24,16,Q1012\n",
      "METAF,SBGL,061900Z,15005KT,10000,CAVOK,25,16,Q1013\n",
      "METAF,SBGL,062000Z,17006KT,10000,CAVOK,24,17,Q1016\n",
      "METAF,SBGL,062100Z,13005KT,10000,CAVOK,24,17,Q1013\n",
      "METAF,SBGL,062200Z,11005KT,10000,CAVOK,24,17,Q1014\n",
      "METAF,SBGL,062300Z,07002KT,10000,CAVOK,23,17,Q1015\n",
      "METAF,SBGL,070000Z,14004KT,10000,CAVOK,23,16,Q1014\n",
      "METAF,SBGL,070100Z,13004KT,10000,CAVOK,22,16,Q1014\n",
      "METAF,SBGL,070200Z,11003KT,10000,CAVOK,22,16,Q1017\n",
      "METAF,SBGL,070300Z,07004KT,10000,CAVOK,22,15,Q1013\n",
      "METAF,SBGL,070400Z,06002KT,10000,CAVOK,22,15,Q1013\n",
      "METAF,SBGL,070500Z,24001KT,10000,CAVOK,23,15,Q1013\n",
      "METAF,SBGL,070600Z,23005KT,10000,CAVOK,21,14,Q1010\n",
      "METAF,SBGL,070700Z,18004KT,10000,CAVOK,21,14,Q1011\n",
      "METAF,SBGL,070800Z,18004KT,10000,CAVOK,21,15,Q1014\n",
      "METAF,SBGL,070900Z,16002KT,10000,CAVOK,21,15,Q1012\n",
      "METAF,SBGL,071000Z,35001KT,10000,CAVOK,21,15,Q1013\n",
      "METAF,SBGL,071100Z,28001KT,10000,CAVOK,22,15,Q1015\n",
      "METAF,SBGL,071200Z,27006KT,10000,CAVOK,22,14,Q1013\n",
      "METAF,SBGL,071300Z,34001KT,10000,CAVOK,23,15,Q1013\n",
      "METAF,SBGL,071400Z,05003KT,10000,CAVOK,23,16,Q1016\n",
      "METAF,SBGL,071500Z,09003KT,10000,CAVOK,23,16,Q1012\n",
      "METAF,SBGL,071600Z,14004KT,10000,CAVOK,24,16,Q1012\n",
      "METAF,SBGL,071700Z,15006KT,10000,CAVOK,24,16,Q1012\n",
      "METAF,SBGL,071800Z,17008KT,10000,CAVOK,24,18,Q1011\n",
      "METAF,SBGL,071900Z,17008KT,10000,CAVOK,23,19,Q1012\n",
      "METAF,SBGL,081600Z,09002KT,0000,FEW033,22,18,Q1014\n",
      "METAF,SBGL,081700Z,12002KT,10000,CAVOK,23,18,Q1014\n",
      "METAF,SBGL,081800Z,16009KT,10000,CAVOK,23,19,Q1012\n",
      "METAF,SBGL,101700Z,10003KT,10000,CAVOK,23,19,Q1013\n",
      "METAF,SBGL,101800Z,19005KT,10000,CAVOK,25,19,Q1009\n",
      "METAF,SBGL,101900Z,17010KT,10000,CAVOK,24,20,Q1011\n",
      "METAF,SBGL,112000Z,16005KT,0000,OVC033,21,16,Q1017\n",
      "METAF,SBGL,112100Z,16006KT,0000,OVC033,21,16,Q1016\n",
      "METAF,SBGL,121700Z,24001KT,0000,OVC033,20,15,Q1016\n",
      "METAF,SBGL,121800Z,22008KT,0000,OVC033,20,16,Q1013\n",
      "METAF,SBGL,121900Z,22007KT,0000,OVC033,20,15,Q1017\n",
      "METAF,SBGL,122000Z,25006KT,0000,OVC033,20,15,Q1018\n",
      "METAF,SBGL,122100Z,22006KT,0000,OVC033,20,15,Q1017\n",
      "METAF,SBGL,122200Z,26004KT,0000,OVC033,20,15,Q1017\n",
      "METAF,SBGL,122300Z,23007KT,0000,OVC033,20,15,Q1019\n",
      "METAF,SBGL,130000Z,21008KT,0000,OVC033,20,13,Q1017\n",
      "METAF,SBGL,130100Z,26003KT,0000,OVC033,20,13,Q1019\n",
      "METAF,SBGL,130200Z,27005KT,0000,OVC033,20,13,Q1021\n",
      "METAF,SBGL,130300Z,27006KT,0000,OVC033,19,13,Q1018\n",
      "METAF,SBGL,130400Z,31006KT,0000,BKN033,19,13,Q1017\n",
      "METAF,SBGL,130500Z,25006KT,0000,BKN033,19,13,Q1019\n",
      "METAF,SBGL,130600Z,31008KT,0000,FEW032,18,12,Q1016\n",
      "METAF,SBGL,130700Z,32010KT,10000,CAVOK,18,12,Q1020\n",
      "METAF,SBGL,130800Z,30011KT,10000,CAVOK,18,12,Q1021\n",
      "METAF,SBGL,130900Z,30010KT,10000,CAVOK,18,12,Q1018\n",
      "METAF,SBGL,131000Z,29008KT,10000,CAVOK,18,11,Q1019\n",
      "METAF,SBGL,131100Z,28006KT,10000,CAVOK,18,11,Q1022\n",
      "METAF,SBGL,131200Z,29009KT,0000,SCT033,18,12,Q1018\n",
      "METAF,SBGL,131300Z,28010KT,10000,CAVOK,19,12,Q1023\n",
      "METAF,SBGL,131400Z,28009KT,10000,CAVOK,21,11,Q1023\n",
      "METAF,SBGL,131500Z,27008KT,10000,CAVOK,22,11,Q1019\n",
      "METAF,SBGL,131600Z,20007KT,10000,CAVOK,22,12,Q1020\n",
      "METAF,SBGL,131700Z,20010KT,10000,CAVOK,21,13,Q1021\n",
      "METAF,SBGL,131800Z,25008KT,0000,SCT033,21,12,Q1017\n",
      "METAF,SBGL,131900Z,28008KT,0000,FEW033,21,12,Q1020\n",
      "METAF,SBGL,132000Z,28008KT,10000,CAVOK,21,12,Q1022\n",
      "METAF,SBGL,132100Z,25005KT,10000,CAVOK,20,12,Q1019\n",
      "METAF,SBGL,132200Z,22004KT,10000,CAVOK,20,13,Q1022\n",
      "METAF,SBGL,132300Z,25002KT,0000,BKN027,20,14,Q1024\n",
      "METAF,SBGL,140800Z,29008KT,0000,BKN030,18,13,Q1023\n",
      "METAF,SBGL,140900Z,29008KT,0000,BKN028,17,13,Q1021\n",
      "METAF,SBGL,141000Z,29007KT,0000,BKN028,17,13,Q1022\n",
      "METAF,SBGL,141100Z,30008KT,0000,OVC028,18,13,Q1023\n",
      "METAF,SBGL,141200Z,27007KT,0000,OVC026,18,12,Q1022\n",
      "METAF,SBGL,141300Z,28004KT,0000,OVC028,20,13,Q1024\n",
      "METAF,SBGL,141400Z,28004KT,0000,BKN033,21,13,Q1025\n",
      "METAF,SBGL,141500Z,35003KT,0000,OVC033,21,14,Q1022\n",
      "METAF,SBGL,141600Z,20002KT,0000,OVC029,21,14,Q1022\n",
      "METAF,SBGL,141700Z,17006KT,0000,BKN024,21,16,Q1022\n",
      "METAF,SBGL,141800Z,16005KT,0000,OVC026,21,15,Q1019\n",
      "METAF,SBGL,141900Z,14006KT,0000,OVC026,21,15,Q1022\n",
      "METAF,SBGL,142000Z,15005KT,0000,OVC026,21,15,Q1023\n",
      "METAF,SBGL,142100Z,13005KT,0000,OVC023,21,15,Q1022\n",
      "METAF,SBGL,142200Z,07006KT,0000,OVC021,20,16,Q1022\n",
      "METAF,SBGL,151400Z,36001KT,0000,FEW021,19,15,Q1024\n",
      "METAF,SBGL,151500Z,11000KT,10000,CAVOK,20,14,Q1021\n",
      "METAF,SBGL,151600Z,09000KT,10000,CAVOK,21,14,Q1021\n",
      "METAF,SBGL,151700Z,12002KT,10000,CAVOK,22,13,Q1020\n",
      "METAF,SBGL,151800Z,14003KT,10000,CAVOK,22,15,Q1019\n",
      "METAF,SBGL,151900Z,15008KT,10000,CAVOK,22,16,Q1020\n",
      "METAF,SBGL,152000Z,13009KT,10000,CAVOK,22,15,Q1020\n",
      "METAF,SBGL,152100Z,12008KT,0000,FEW033,21,15,Q1020\n",
      "METAF,SBGL,152200Z,12008KT,0000,SCT033,21,15,Q1021\n",
      "METAF,SBGL,152300Z,10007KT,10000,CAVOK,20,15,Q1021\n",
      "METAF,SBGL,160000Z,09006KT,10000,CAVOK,20,15,Q1021\n",
      "METAF,SBGL,160100Z,07006KT,10000,CAVOK,19,15,Q1021\n",
      "METAF,SBGL,180600Z,25005KT,10000,CAVOK,21,13,Q1009\n",
      "METAF,SBGL,180700Z,26002KT,10000,CAVOK,21,13,Q1009\n",
      "METAF,SBGL,180800Z,07001KT,10000,CAVOK,22,13,Q1011\n",
      "METAF,SBGL,180900Z,27003KT,10000,CAVOK,22,14,Q1011\n",
      "METAF,SBGL,181000Z,25007KT,10000,CAVOK,22,13,Q1012\n",
      "METAF,SBGL,181100Z,29006KT,10000,CAVOK,23,13,Q1014\n",
      "METAF,SBGL,181200Z,28007KT,10000,CAVOK,23,14,Q1013\n",
      "METAF,SBGL,181300Z,25004KT,10000,CAVOK,24,15,Q1015\n",
      "METAF,SBGL,181400Z,21005KT,10000,CAVOK,24,17,Q1017\n",
      "METAF,SBGL,181500Z,17006KT,0000,FEW033,24,18,Q1016\n",
      "METAF,SBGL,181600Z,17008KT,0000,FEW032,24,18,Q1014\n",
      "METAF,SBGL,181700Z,17009KT,0000,FEW030,24,19,Q1016\n",
      "METAF,SBGL,181800Z,22012KT,0000,OVC025,24,19,Q1012\n",
      "METAF,SBGL,191600Z,12003KT,0000,OVC033,21,16,Q1022\n",
      "METAF,SBGL,191700Z,14004KT,0000,OVC033,22,16,Q1022\n",
      "METAF,SBGL,191800Z,11009KT,0000,OVC033,22,16,Q1018\n",
      "METAF,SBGL,191900Z,08010KT,0000,OVC033,22,17,Q1021\n",
      "METAF,SBGL,192000Z,09010KT,0000,OVC033,22,17,Q1021\n",
      "METAF,SBGL,192100Z,09010KT,0000,OVC033,21,16,Q1020\n",
      "METAF,SBGL,192200Z,12008KT,0000,OVC033,21,16,Q1022\n",
      "METAF,SBGL,201100Z,09002KT,10000,CAVOK,19,15,Q1021\n",
      "METAF,SBGL,201300Z,13002KT,10000,CAVOK,20,16,Q1023\n",
      "METAF,SBGL,201400Z,14002KT,10000,CAVOK,21,15,Q1023\n",
      "METAF,SBGL,201500Z,14002KT,10000,CAVOK,22,16,Q1019\n",
      "METAF,SBGL,201600Z,16003KT,10000,CAVOK,23,16,Q1020\n",
      "METAF,SBGL,201700Z,17004KT,10000,CAVOK,23,17,Q1019\n",
      "METAF,SBGL,201800Z,17004KT,10000,CAVOK,24,17,Q1017\n",
      "METAF,SBGL,201900Z,17003KT,10000,CAVOK,24,17,Q1018\n",
      "METAF,SBGL,202000Z,17005KT,10000,CAVOK,24,18,Q1018\n",
      "METAF,SBGL,202100Z,10007KT,10000,CAVOK,23,18,Q1018\n",
      "METAF,SBGL,202200Z,09008KT,10000,CAVOK,22,19,Q1019\n",
      "METAF,SBGL,202300Z,10008KT,10000,CAVOK,22,18,Q1019\n",
      "METAF,SBGL,210300Z,08006KT,10000,CAVOK,21,18,Q1018\n",
      "METAF,SBGL,210400Z,08005KT,10000,CAVOK,21,17,Q1019\n",
      "METAF,SBGL,210500Z,07006KT,10000,CAVOK,21,17,Q1019\n",
      "METAF,SBGL,211100Z,15002KT,10000,CAVOK,20,17,Q1020\n",
      "METAF,SBGL,211200Z,12003KT,10000,CAVOK,20,17,Q1020\n",
      "METAF,SBGL,211300Z,17005KT,10000,CAVOK,22,17,Q1021\n",
      "METAF,SBGL,211400Z,18002KT,10000,CAVOK,22,18,Q1021\n",
      "METAF,SBGL,211500Z,11001KT,10000,CAVOK,23,17,Q1018\n",
      "METAF,SBGL,211600Z,12003KT,10000,CAVOK,24,17,Q1018\n",
      "METAF,SBGL,211700Z,13003KT,10000,CAVOK,25,17,Q1017\n",
      "METAF,SBGL,211800Z,15004KT,10000,CAVOK,25,18,Q1015\n",
      "METAF,SBGL,211900Z,15004KT,10000,CAVOK,25,19,Q1016\n",
      "METAF,SBGL,212000Z,13005KT,10000,CAVOK,25,19,Q1016\n",
      "METAF,SBGL,212100Z,10007KT,10000,CAVOK,25,20,Q1015\n",
      "METAF,SBGL,212200Z,08008KT,10000,CAVOK,24,19,Q1016\n",
      "METAF,SBGL,212300Z,08008KT,10000,CAVOK,23,19,Q1016\n",
      "METAF,SBGL,220000Z,10007KT,10000,CAVOK,23,19,Q1016\n",
      "METAF,SBGL,220100Z,09006KT,10000,CAVOK,22,17,Q1017\n",
      "METAF,SBGL,220200Z,10006KT,10000,CAVOK,22,17,Q1018\n",
      "METAF,SBGL,220300Z,08006KT,10000,CAVOK,22,17,Q1016\n",
      "METAF,SBGL,220400Z,10005KT,10000,CAVOK,22,17,Q1016\n",
      "METAF,SBGL,220500Z,11003KT,10000,CAVOK,22,17,Q1015\n",
      "METAF,SBGL,220600Z,14005KT,10000,CAVOK,20,16,Q1015\n",
      "METAF,SBGL,220700Z,13004KT,10000,CAVOK,21,15,Q1016\n",
      "METAF,SBGL,220800Z,11004KT,10000,CAVOK,21,15,Q1017\n",
      "METAF,SBGL,220900Z,10005KT,10000,CAVOK,21,16,Q1015\n",
      "METAF,SBGL,221000Z,12003KT,10000,CAVOK,21,16,Q1016\n",
      "METAF,SBGL,221100Z,18002KT,10000,CAVOK,22,16,Q1016\n",
      "METAF,SBGL,221200Z,23002KT,10000,CAVOK,23,16,Q1016\n",
      "METAF,SBGL,221300Z,11001KT,10000,CAVOK,24,16,Q1017\n",
      "METAF,SBGL,221400Z,10003KT,10000,CAVOK,25,16,Q1018\n",
      "METAF,SBGL,221500Z,08003KT,10000,CAVOK,26,16,Q1015\n",
      "METAF,SBGL,221600Z,09002KT,10000,CAVOK,27,15,Q1015\n",
      "METAF,SBGL,221700Z,08003KT,10000,CAVOK,27,15,Q1014\n",
      "METAF,SBGL,221800Z,09004KT,10000,CAVOK,27,17,Q1012\n",
      "METAF,SBGL,221900Z,08004KT,10000,CAVOK,27,16,Q1013\n",
      "METAF,SBGL,222000Z,10004KT,10000,CAVOK,27,17,Q1015\n",
      "METAF,SBGL,222100Z,10006KT,10000,CAVOK,26,18,Q1013\n",
      "METAF,SBGL,222200Z,09005KT,10000,CAVOK,25,19,Q1014\n",
      "METAF,SBGL,222300Z,08003KT,10000,CAVOK,24,18,Q1015\n",
      "METAF,SBGL,230000Z,10005KT,10000,CAVOK,23,18,Q1014\n",
      "METAF,SBGL,230100Z,11004KT,10000,CAVOK,23,18,Q1015\n",
      "METAF,SBGL,230200Z,10005KT,10000,CAVOK,23,17,Q1015\n",
      "METAF,SBGL,230300Z,09006KT,10000,CAVOK,23,16,Q1013\n",
      "METAF,SBGL,230400Z,10004KT,10000,CAVOK,23,16,Q1014\n",
      "METAF,SBGL,230500Z,09003KT,10000,CAVOK,24,16,Q1014\n",
      "METAF,SBGL,230600Z,14002KT,10000,CAVOK,21,15,Q1013\n",
      "METAF,SBGL,230700Z,18002KT,10000,CAVOK,22,15,Q1014\n",
      "METAF,SBGL,230800Z,23003KT,10000,CAVOK,22,16,Q1016\n",
      "METAF,SBGL,230900Z,28002KT,10000,CAVOK,22,16,Q1014\n",
      "METAF,SBGL,231000Z,14001KT,10000,CAVOK,22,15,Q1016\n",
      "METAF,SBGL,231100Z,10002KT,10000,CAVOK,22,15,Q1017\n",
      "METAF,SBGL,231200Z,14002KT,10000,CAVOK,23,15,Q1016\n",
      "METAF,SBGL,231300Z,12002KT,10000,CAVOK,23,16,Q1017\n",
      "METAF,SBGL,231400Z,12003KT,10000,CAVOK,24,15,Q1018\n",
      "METAF,SBGL,231500Z,09002KT,10000,CAVOK,25,15,Q1016\n",
      "METAF,SBGL,231600Z,06003KT,10000,CAVOK,26,14,Q1015\n",
      "METAF,SBGL,231700Z,06003KT,10000,CAVOK,27,14,Q1015\n",
      "METAF,SBGL,231800Z,10004KT,10000,CAVOK,27,16,Q1012\n",
      "METAF,SBGL,231900Z,10004KT,10000,CAVOK,28,15,Q1014\n",
      "METAF,SBGL,232000Z,13004KT,10000,CAVOK,27,17,Q1016\n",
      "METAF,SBGL,232100Z,12004KT,10000,CAVOK,26,18,Q1014\n",
      "METAF,SBGL,232200Z,10004KT,10000,CAVOK,25,18,Q1015\n",
      "METAF,SBGL,232300Z,07004KT,10000,CAVOK,24,17,Q1016\n",
      "METAF,SBGL,240000Z,09006KT,10000,CAVOK,23,18,Q1014\n",
      "METAF,SBGL,240100Z,09006KT,10000,CAVOK,23,18,Q1015\n",
      "METAF,SBGL,240200Z,10004KT,10000,CAVOK,23,18,Q1017\n",
      "METAF,SBGL,240300Z,09005KT,10000,CAVOK,23,16,Q1015\n",
      "METAF,SBGL,240400Z,11004KT,10000,CAVOK,22,15,Q1015\n",
      "METAF,SBGL,240500Z,11004KT,10000,CAVOK,23,15,Q1016\n",
      "METAF,SBGL,240600Z,15003KT,10000,CAVOK,21,16,Q1013\n",
      "METAF,SBGL,240700Z,16003KT,10000,CAVOK,21,15,Q1016\n",
      "METAF,SBGL,240800Z,15002KT,10000,CAVOK,22,15,Q1017\n",
      "METAF,SBGL,240900Z,13003KT,10000,CAVOK,22,15,Q1016\n",
      "METAF,SBGL,241000Z,11004KT,10000,CAVOK,22,14,Q1016\n",
      "METAF,SBGL,241100Z,14003KT,10000,CAVOK,22,13,Q1017\n",
      "METAF,SBGL,241200Z,16002KT,10000,CAVOK,22,12,Q1016\n",
      "METAF,SBGL,241300Z,14003KT,10000,CAVOK,24,15,Q1018\n",
      "METAF,SBGL,241400Z,13002KT,10000,CAVOK,25,14,Q1019\n",
      "METAF,SBGL,241500Z,12002KT,10000,CAVOK,26,14,Q1016\n",
      "METAF,SBGL,241600Z,11002KT,10000,CAVOK,26,13,Q1016\n",
      "METAF,SBGL,241700Z,14002KT,10000,CAVOK,27,13,Q1016\n",
      "METAF,SBGL,241800Z,12004KT,10000,CAVOK,27,15,Q1013\n",
      "METAF,SBGL,241900Z,12004KT,10000,CAVOK,27,15,Q1015\n",
      "METAF,SBGL,242000Z,15005KT,10000,CAVOK,26,17,Q1017\n",
      "METAF,SBGL,242100Z,19006KT,10000,CAVOK,25,18,Q1015\n",
      "METAF,SBGL,242200Z,21005KT,10000,CAVOK,24,19,Q1017\n",
      "METAF,SBGL,242300Z,23005KT,10000,CAVOK,24,18,Q1018\n",
      "METAF,SBGL,250000Z,18006KT,10000,CAVOK,22,19,Q1016\n",
      "METAF,SBGL,250100Z,19004KT,10000,CAVOK,22,19,Q1018\n",
      "METAF,SBGL,250500Z,22003KT,10000,CAVOK,21,18,Q1017\n",
      "METAF,SBGL,250600Z,18003KT,10000,CAVOK,20,14,Q1013\n",
      "METAF,SBGL,250700Z,11005KT,10000,CAVOK,20,15,Q1017\n",
      "METAF,SBGL,250800Z,11003KT,10000,CAVOK,20,16,Q1018\n",
      "METAF,SBGL,250900Z,13005KT,10000,CAVOK,20,16,Q1016\n",
      "METAF,SBGL,251000Z,08004KT,10000,CAVOK,20,16,Q1017\n",
      "METAF,SBGL,251100Z,19001KT,10000,CAVOK,20,16,Q1017\n",
      "METAF,SBGL,251200Z,20003KT,10000,CAVOK,21,16,Q1017\n",
      "METAF,SBGL,251300Z,21004KT,10000,CAVOK,23,15,Q1017\n",
      "METAF,SBGL,251400Z,23004KT,10000,CAVOK,25,15,Q1017\n",
      "METAF,SBGL,251500Z,22008KT,10000,CAVOK,26,15,Q1016\n",
      "METAF,SBGL,251600Z,21011KT,10000,CAVOK,25,16,Q1017\n",
      "METAF,SBGL,251700Z,22011KT,10000,CAVOK,24,17,Q1017\n",
      "METAF,SBGL,251800Z,22010KT,0000,FEW027,23,18,Q1017\n",
      "METAF,SBGL,261300Z,13005KT,0000,OVC020,21,17,Q1023\n",
      "METAF,SBGL,261400Z,14004KT,0000,OVC020,21,17,Q1024\n",
      "METAF,SBGL,261500Z,14006KT,0000,BKN022,21,16,Q1021\n",
      "METAF,SBGL,261600Z,13003KT,0000,BKN026,22,16,Q1019\n",
      "METAF,SBGL,261700Z,16004KT,0000,BKN030,22,15,Q1019\n",
      "METAF,SBGL,261800Z,16011KT,0000,OVC031,22,15,Q1018\n",
      "METAF,SBGL,261900Z,15012KT,0000,BKN029,22,15,Q1021\n",
      "METAF,SBGL,262000Z,14008KT,0000,BKN033,21,15,Q1022\n",
      "METAF,SBGL,262100Z,12007KT,0000,BKN033,21,15,Q1020\n",
      "METAF,SBGL,262200Z,10008KT,0000,BKN033,20,15,Q1021\n",
      "METAF,SBGL,262300Z,10008KT,0000,OVC033,20,15,Q1022\n",
      "METAF,SBGL,270000Z,10007KT,0000,OVC033,20,15,Q1021\n",
      "METAF,SBGL,270100Z,09006KT,0000,OVC033,19,15,Q1023\n",
      "METAF,SBGL,271100Z,07005KT,0000,FEW023,19,14,Q1022\n",
      "METAF,SBGL,271300Z,07004KT,0000,BKN022,19,14,Q1025\n",
      "METAF,SBGL,271400Z,03003KT,0000,BKN027,20,14,Q1026\n",
      "METAF,SBGL,271500Z,04003KT,0000,SCT031,20,13,Q1023\n",
      "METAF,SBGL,271600Z,09002KT,10000,CAVOK,21,13,Q1022\n",
      "METAF,SBGL,271700Z,08002KT,10000,CAVOK,21,13,Q1020\n",
      "METAF,SBGL,271800Z,13004KT,0000,BKN033,22,13,Q1018\n",
      "METAF,SBGL,271900Z,13011KT,0000,OVC033,22,14,Q1020\n",
      "METAF,SBGL,272000Z,12012KT,0000,BKN033,21,14,Q1023\n",
      "METAF,SBGL,272100Z,10011KT,0000,BKN033,21,14,Q1021\n",
      "METAF,SBGL,272200Z,10011KT,0000,SCT033,21,14,Q1022\n",
      "METAF,SBGL,272300Z,06011KT,10000,CAVOK,20,13,Q1021\n",
      "METAF,SBGL,280000Z,09012KT,10000,CAVOK,19,14,Q1019\n",
      "METAF,SBGL,280100Z,09013KT,10000,CAVOK,19,14,Q1019\n",
      "METAF,SBGL,280200Z,09012KT,10000,CAVOK,19,13,Q1023\n",
      "METAF,SBGL,280300Z,07011KT,10000,CAVOK,19,13,Q1020\n",
      "METAF,SBGL,280400Z,07008KT,10000,CAVOK,19,13,Q1019\n",
      "METAF,SBGL,280500Z,08006KT,10000,CAVOK,18,13,Q1018\n",
      "METAF,SBGL,280600Z,14004KT,10000,CAVOK,17,13,Q1018\n",
      "METAF,SBGL,280700Z,12002KT,10000,CAVOK,17,13,Q1019\n",
      "METAF,SBGL,280800Z,20002KT,10000,CAVOK,17,13,Q1022\n",
      "METAF,SBGL,280900Z,01003KT,10000,CAVOK,17,13,Q1020\n",
      "METAF,SBGL,281000Z,03003KT,10000,CAVOK,17,13,Q1020\n",
      "METAF,SBGL,281100Z,15001KT,10000,CAVOK,18,13,Q1021\n",
      "METAF,SBGL,281200Z,16004KT,10000,CAVOK,18,14,Q1020\n",
      "METAF,SBGL,281300Z,15004KT,10000,CAVOK,20,14,Q1021\n",
      "METAF,SBGL,281400Z,16004KT,10000,CAVOK,21,13,Q1023\n",
      "METAF,SBGL,281500Z,13004KT,10000,CAVOK,22,14,Q1019\n",
      "METAF,SBGL,281600Z,14003KT,10000,CAVOK,22,15,Q1019\n",
      "METAF,SBGL,281700Z,11001KT,10000,CAVOK,23,14,Q1018\n",
      "METAF,SBGL,281800Z,16005KT,10000,CAVOK,23,15,Q1014\n",
      "METAF,SBGL,281900Z,16006KT,10000,CAVOK,23,16,Q1016\n",
      "METAF,SBGL,282000Z,14006KT,10000,CAVOK,23,16,Q1018\n",
      "METAF,SBGL,282100Z,13005KT,10000,CAVOK,23,16,Q1015\n",
      "METAF,SBGL,282200Z,13004KT,10000,CAVOK,23,16,Q1017\n",
      "METAF,SBGL,282300Z,11004KT,10000,CAVOK,22,16,Q1017\n",
      "METAF,SBGL,290000Z,14006KT,10000,CAVOK,21,16,Q1015\n",
      "METAF,SBGL,290100Z,12006KT,10000,CAVOK,21,15,Q1017\n",
      "METAF,SBGL,290200Z,10006KT,10000,CAVOK,21,14,Q1017\n",
      "METAF,SBGL,290300Z,09004KT,10000,CAVOK,21,14,Q1015\n",
      "METAF,SBGL,290400Z,10005KT,10000,CAVOK,21,15,Q1015\n",
      "METAF,SBGL,290500Z,10004KT,10000,CAVOK,21,15,Q1015\n",
      "METAF,SBGL,290600Z,12006KT,10000,CAVOK,20,14,Q1013\n",
      "METAF,SBGL,290700Z,10007KT,10000,CAVOK,20,14,Q1014\n",
      "METAF,SBGL,290800Z,15003KT,10000,CAVOK,20,14,Q1015\n",
      "METAF,SBGL,290900Z,35001KT,10000,CAVOK,21,14,Q1013\n",
      "METAF,SBGL,291000Z,27004KT,10000,CAVOK,21,15,Q1015\n",
      "METAF,SBGL,291100Z,29005KT,10000,CAVOK,22,15,Q1015\n",
      "METAF,SBGL,291200Z,13003KT,10000,CAVOK,21,13,Q1014\n",
      "METAF,SBGL,291300Z,09005KT,10000,CAVOK,22,15,Q1016\n",
      "METAF,SBGL,291400Z,17001KT,10000,CAVOK,23,16,Q1017\n",
      "METAF,SBGL,291500Z,13001KT,10000,CAVOK,24,15,Q1013\n",
      "METAF,SBGL,291600Z,09001KT,10000,CAVOK,25,15,Q1013\n",
      "METAF,SBGL,291700Z,33001KT,10000,CAVOK,26,14,Q1012\n",
      "METAF,SBGL,291800Z,08005KT,10000,CAVOK,26,16,Q1009\n",
      "METAF,SBGL,291900Z,07005KT,10000,CAVOK,26,16,Q1012\n",
      "METAF,SBGL,292000Z,10002KT,10000,CAVOK,26,16,Q1015\n",
      "METAF,SBGL,292100Z,08004KT,10000,CAVOK,25,17,Q1013\n",
      "METAF,SBGL,292200Z,05009KT,10000,CAVOK,24,17,Q1012\n",
      "METAF,SBGL,292300Z,05012KT,10000,CAVOK,24,17,Q1011\n",
      "METAF,SBGL,300000Z,07006KT,10000,CAVOK,23,17,Q1011\n",
      "METAF,SBGL,300100Z,13005KT,10000,CAVOK,22,17,Q1014\n",
      "METAF,SBGL,300200Z,22008KT,10000,CAVOK,23,17,Q1016\n",
      "METAF,SBGL,300300Z,27006KT,10000,CAVOK,22,18,Q1014\n",
      "METAF,SBGL,301200Z,28005KT,0000,OVC033,21,16,Q1018\n",
      "METAF,SBGL,301300Z,23002KT,0000,OVC033,21,15,Q1021\n",
      "METAF,SBGL,301400Z,05002KT,0000,BKN027,22,16,Q1023\n",
      "METAF,SBGL,301500Z,14004KT,0000,BKN031,22,15,Q1020\n",
      "METAF,SBGL,301600Z,16008KT,0000,BKN031,22,16,Q1021\n",
      "METAF,SBGL,301700Z,16006KT,0000,SCT032,22,16,Q1019\n",
      "METAF,SBGL,301800Z,14006KT,0000,FEW031,22,16,Q1017\n",
      "METAF,SBGL,301900Z,14004KT,10000,CAVOK,22,16,Q1017\n",
      "METAF,SBGL,302000Z,15005KT,10000,CAVOK,22,16,Q1017\n",
      "METAF,SBGL,302100Z,14008KT,10000,CAVOK,22,16,Q1017\n",
      "METAF,SBGL,302200Z,13009KT,0000,FEW033,21,16,Q1019\n"
     ]
    }
   ],
   "source": [
    "# desired format: METAF,SBGL,25001KT,3000,....\n",
    "# if after KT, there is not a number, add 0000\n",
    "# if after KT, there is a number, don't change\n",
    "for row in metaf_june_2022_SBGL[\"metaf\"]:\n",
    "    if not row.split(\"KT,\")[1][0].isdigit():\n",
    "        # if it has CAVOK, then the number is 10000\n",
    "        if \"CAVOK\" in row:\n",
    "            row = row.replace(\"KT,\", \"KT,10000,\")\n",
    "        else:\n",
    "            row = row.replace(\"KT,\", \"KT,0000,\")\n",
    "        print(row)"
   ]
  },
  {
   "cell_type": "code",
   "execution_count": 40,
   "metadata": {},
   "outputs": [],
   "source": [
    "# string into multiple columns\n",
    "# columns = [\"report\", \"station\", \"dt_origin\", \"wind\", \"visibility\", \"weather\", \"clouds\",\"temperature\", \"dew_point\",\"altimeter (hPA)\"]\n",
    "new_columns = metaf_june_2022_SBGL[\"metaf\"].str.split(\",\", expand=True)"
   ]
  },
  {
   "cell_type": "code",
   "execution_count": 41,
   "metadata": {},
   "outputs": [
    {
     "data": {
      "text/plain": [
       "(578, 10)"
      ]
     },
     "execution_count": 41,
     "metadata": {},
     "output_type": "execute_result"
    }
   ],
   "source": [
    "new_columns.shape"
   ]
  },
  {
   "cell_type": "code",
   "execution_count": 42,
   "metadata": {},
   "outputs": [
    {
     "data": {
      "text/plain": [
       "2\n",
       "True    578\n",
       "Name: count, dtype: int64"
      ]
     },
     "execution_count": 42,
     "metadata": {},
     "output_type": "execute_result"
    }
   ],
   "source": [
    "# check whether any of the rows in columns 2 does not end in Z\n",
    "new_columns[2].str.endswith(\"Z\").value_counts()"
   ]
  },
  {
   "cell_type": "code",
   "execution_count": 43,
   "metadata": {},
   "outputs": [
    {
     "data": {
      "text/plain": [
       "3\n",
       "True    578\n",
       "Name: count, dtype: int64"
      ]
     },
     "execution_count": 43,
     "metadata": {},
     "output_type": "execute_result"
    }
   ],
   "source": [
    "# check whether any of the rows in columns 3 does not end in KT\n",
    "new_columns[3].str.endswith(\"KT\").value_counts()"
   ]
  },
  {
   "cell_type": "markdown",
   "metadata": {},
   "source": [
    "Visibility\n",
    "CAVOK: Ceiling And Visibility OK -> replaces visibility, clouds and weather\n",
    "5000 means visibility is 5000 meters."
   ]
  },
  {
   "cell_type": "code",
   "execution_count": 50,
   "metadata": {},
   "outputs": [
    {
     "data": {
      "text/plain": [
       "array(['3000', '2000', '1000', '4000', '8000', '9000', 'SCT033', 'SCT030',\n",
       "       'FEW033', '7000', 'CAVOK', '6000', '5000', 'OVC027', 'BKN027',\n",
       "       'BKN023', 'OVC033', 'BKN033', 'FEW032', 'BKN030', 'BKN028',\n",
       "       'OVC028', 'OVC026', 'OVC029', 'BKN024', 'OVC023', 'OVC021',\n",
       "       'FEW021', 'FEW030', 'OVC025', 'FEW027', 'OVC020', 'BKN022',\n",
       "       'BKN026', 'OVC031', 'BKN029', 'FEW023', 'SCT031', 'BKN031',\n",
       "       'SCT032', 'FEW031'], dtype=object)"
      ]
     },
     "execution_count": 50,
     "metadata": {},
     "output_type": "execute_result"
    }
   ],
   "source": [
    "new_columns[4].unique()"
   ]
  },
  {
   "cell_type": "code",
   "execution_count": 45,
   "metadata": {},
   "outputs": [],
   "source": [
    "multiples_of_1000 = np.arange(1000, 10000, 1000)\n",
    "multiples_of_1000 = multiples_of_1000.astype(str)"
   ]
  },
  {
   "cell_type": "code",
   "execution_count": 46,
   "metadata": {},
   "outputs": [
    {
     "data": {
      "text/plain": [
       "4\n",
       "False    326\n",
       "True     252\n",
       "Name: count, dtype: int64"
      ]
     },
     "execution_count": 46,
     "metadata": {},
     "output_type": "execute_result"
    }
   ],
   "source": [
    "new_columns[4].isin(multiples_of_1000).value_counts()"
   ]
  },
  {
   "cell_type": "code",
   "execution_count": 51,
   "metadata": {},
   "outputs": [
    {
     "data": {
      "text/html": [
       "<div>\n",
       "<style scoped>\n",
       "    .dataframe tbody tr th:only-of-type {\n",
       "        vertical-align: middle;\n",
       "    }\n",
       "\n",
       "    .dataframe tbody tr th {\n",
       "        vertical-align: top;\n",
       "    }\n",
       "\n",
       "    .dataframe thead th {\n",
       "        text-align: right;\n",
       "    }\n",
       "</style>\n",
       "<table border=\"1\" class=\"dataframe\">\n",
       "  <thead>\n",
       "    <tr style=\"text-align: right;\">\n",
       "      <th></th>\n",
       "      <th>0</th>\n",
       "      <th>1</th>\n",
       "      <th>2</th>\n",
       "      <th>3</th>\n",
       "      <th>4</th>\n",
       "      <th>5</th>\n",
       "      <th>6</th>\n",
       "      <th>7</th>\n",
       "      <th>8</th>\n",
       "      <th>9</th>\n",
       "    </tr>\n",
       "  </thead>\n",
       "  <tbody>\n",
       "    <tr>\n",
       "      <th>16</th>\n",
       "      <td>METAF</td>\n",
       "      <td>SBGL</td>\n",
       "      <td>011600Z</td>\n",
       "      <td>15003KT</td>\n",
       "      <td>SCT033</td>\n",
       "      <td>25</td>\n",
       "      <td>20</td>\n",
       "      <td>Q1013</td>\n",
       "      <td>None</td>\n",
       "      <td>None</td>\n",
       "    </tr>\n",
       "    <tr>\n",
       "      <th>17</th>\n",
       "      <td>METAF</td>\n",
       "      <td>SBGL</td>\n",
       "      <td>011700Z</td>\n",
       "      <td>17005KT</td>\n",
       "      <td>SCT033</td>\n",
       "      <td>26</td>\n",
       "      <td>20</td>\n",
       "      <td>Q1013</td>\n",
       "      <td>None</td>\n",
       "      <td>None</td>\n",
       "    </tr>\n",
       "    <tr>\n",
       "      <th>18</th>\n",
       "      <td>METAF</td>\n",
       "      <td>SBGL</td>\n",
       "      <td>011800Z</td>\n",
       "      <td>15008KT</td>\n",
       "      <td>SCT030</td>\n",
       "      <td>26</td>\n",
       "      <td>21</td>\n",
       "      <td>Q1013</td>\n",
       "      <td>None</td>\n",
       "      <td>None</td>\n",
       "    </tr>\n",
       "    <tr>\n",
       "      <th>19</th>\n",
       "      <td>METAF</td>\n",
       "      <td>SBGL</td>\n",
       "      <td>011900Z</td>\n",
       "      <td>13009KT</td>\n",
       "      <td>FEW033</td>\n",
       "      <td>26</td>\n",
       "      <td>21</td>\n",
       "      <td>Q1013</td>\n",
       "      <td>None</td>\n",
       "      <td>None</td>\n",
       "    </tr>\n",
       "    <tr>\n",
       "      <th>23</th>\n",
       "      <td>METAF</td>\n",
       "      <td>SBGL</td>\n",
       "      <td>012300Z</td>\n",
       "      <td>09007KT</td>\n",
       "      <td>CAVOK</td>\n",
       "      <td>24</td>\n",
       "      <td>21</td>\n",
       "      <td>Q1014</td>\n",
       "      <td>None</td>\n",
       "      <td>None</td>\n",
       "    </tr>\n",
       "  </tbody>\n",
       "</table>\n",
       "</div>"
      ],
      "text/plain": [
       "        0     1        2        3       4   5   6      7     8     9\n",
       "16  METAF  SBGL  011600Z  15003KT  SCT033  25  20  Q1013  None  None\n",
       "17  METAF  SBGL  011700Z  17005KT  SCT033  26  20  Q1013  None  None\n",
       "18  METAF  SBGL  011800Z  15008KT  SCT030  26  21  Q1013  None  None\n",
       "19  METAF  SBGL  011900Z  13009KT  FEW033  26  21  Q1013  None  None\n",
       "23  METAF  SBGL  012300Z  09007KT   CAVOK  24  21  Q1014  None  None"
      ]
     },
     "execution_count": 51,
     "metadata": {},
     "output_type": "execute_result"
    }
   ],
   "source": [
    "new_columns[~new_columns[4].isin(multiples_of_1000)].head()"
   ]
  }
 ],
 "metadata": {
  "kernelspec": {
   "display_name": "Python 3 (ipykernel)",
   "language": "python",
   "name": "python3"
  },
  "language_info": {
   "codemirror_mode": {
    "name": "ipython",
    "version": 3
   },
   "file_extension": ".py",
   "mimetype": "text/x-python",
   "name": "python",
   "nbconvert_exporter": "python",
   "pygments_lexer": "ipython3",
   "version": "3.11.5"
  },
  "orig_nbformat": 4
 },
 "nbformat": 4,
 "nbformat_minor": 2
}
