{
 "cells": [
  {
   "cell_type": "markdown",
   "metadata": {},
   "source": [
    "# import libraries"
   ]
  },
  {
   "cell_type": "code",
   "execution_count": 1,
   "metadata": {},
   "outputs": [],
   "source": [
    "# import libraries\n",
    "import numpy as np\n",
    "import pandas as pd\n",
    "import matplotlib.pyplot as plt"
   ]
  },
  {
   "cell_type": "markdown",
   "metadata": {},
   "source": [
    "# load dados data"
   ]
  },
  {
   "cell_type": "code",
   "execution_count": 4,
   "metadata": {},
   "outputs": [],
   "source": [
    "df = ld.read_csv_first_n_entries('../../../dados.csv', n=50)"
   ]
  },
  {
   "cell_type": "code",
   "execution_count": 5,
   "metadata": {},
   "outputs": [
    {
     "data": {
      "text/html": [
       "<div>\n",
       "<style scoped>\n",
       "    .dataframe tbody tr th:only-of-type {\n",
       "        vertical-align: middle;\n",
       "    }\n",
       "\n",
       "    .dataframe tbody tr th {\n",
       "        vertical-align: top;\n",
       "    }\n",
       "\n",
       "    .dataframe thead th {\n",
       "        text-align: right;\n",
       "    }\n",
       "</style>\n",
       "<table border=\"1\" class=\"dataframe\">\n",
       "  <thead>\n",
       "    <tr style=\"text-align: right;\">\n",
       "      <th></th>\n",
       "      <th>flightid</th>\n",
       "      <th>origem</th>\n",
       "      <th>destino</th>\n",
       "      <th>dt_dep</th>\n",
       "      <th>dt_arr</th>\n",
       "      <th>day</th>\n",
       "      <th>hour</th>\n",
       "      <th>weekday</th>\n",
       "      <th>path</th>\n",
       "      <th>distance_path_km</th>\n",
       "      <th>...</th>\n",
       "      <th>aero_metar</th>\n",
       "      <th>snapshot_radar</th>\n",
       "      <th>hora_esperas</th>\n",
       "      <th>esperas</th>\n",
       "      <th>aero_esperas</th>\n",
       "      <th>hora_tcp</th>\n",
       "      <th>troca</th>\n",
       "      <th>aero_tcp</th>\n",
       "      <th>hora_tcr</th>\n",
       "      <th>aero_tcr</th>\n",
       "    </tr>\n",
       "  </thead>\n",
       "  <tbody>\n",
       "    <tr>\n",
       "      <th>0</th>\n",
       "      <td>fcb2bf90345705318213ae1307c0f901</td>\n",
       "      <td>SBKP</td>\n",
       "      <td>SBRJ</td>\n",
       "      <td>1654044297000</td>\n",
       "      <td>1654046760000</td>\n",
       "      <td>1</td>\n",
       "      <td>1</td>\n",
       "      <td>wednesday</td>\n",
       "      <td>http://satelite.cptec.inpe.br/repositoriogoes/...</td>\n",
       "      <td>228</td>\n",
       "      <td>...</td>\n",
       "      <td>SBKP</td>\n",
       "      <td>MULTIPOINT ((-0.7536792855 -0.3990632025), (-0...</td>\n",
       "      <td>1.654078e+12</td>\n",
       "      <td>3</td>\n",
       "      <td>SBKP</td>\n",
       "      <td>1.654124e+12</td>\n",
       "      <td>1</td>\n",
       "      <td>RJ</td>\n",
       "      <td>NaN</td>\n",
       "      <td>NaN</td>\n",
       "    </tr>\n",
       "    <tr>\n",
       "      <th>1</th>\n",
       "      <td>c7c5c10716335b048f86d8c52fcba3f2</td>\n",
       "      <td>SBGR</td>\n",
       "      <td>SBRJ</td>\n",
       "      <td>1654045021000</td>\n",
       "      <td>1654047173000</td>\n",
       "      <td>1</td>\n",
       "      <td>1</td>\n",
       "      <td>wednesday</td>\n",
       "      <td>http://satelite.cptec.inpe.br/repositoriogoes/...</td>\n",
       "      <td>73</td>\n",
       "      <td>...</td>\n",
       "      <td>SBGR</td>\n",
       "      <td>MULTIPOINT ((-0.7899858672 -0.4100310496), (-0...</td>\n",
       "      <td>1.654121e+12</td>\n",
       "      <td>2</td>\n",
       "      <td>SBGR</td>\n",
       "      <td>1.654124e+12</td>\n",
       "      <td>1</td>\n",
       "      <td>RJ</td>\n",
       "      <td>NaN</td>\n",
       "      <td>NaN</td>\n",
       "    </tr>\n",
       "    <tr>\n",
       "      <th>2</th>\n",
       "      <td>3162de7203a972f071d5a48e8f0f4828</td>\n",
       "      <td>SBBR</td>\n",
       "      <td>SBRJ</td>\n",
       "      <td>1654043212000</td>\n",
       "      <td>1654047825000</td>\n",
       "      <td>1</td>\n",
       "      <td>1</td>\n",
       "      <td>wednesday</td>\n",
       "      <td>http://satelite.cptec.inpe.br/repositoriogoes/...</td>\n",
       "      <td>253</td>\n",
       "      <td>...</td>\n",
       "      <td>SBBR</td>\n",
       "      <td>MULTIPOINT ((-0.7738062221 -0.3789342454), (-0...</td>\n",
       "      <td>NaN</td>\n",
       "      <td>0</td>\n",
       "      <td>NaN</td>\n",
       "      <td>1.654124e+12</td>\n",
       "      <td>1</td>\n",
       "      <td>RJ</td>\n",
       "      <td>NaN</td>\n",
       "      <td>NaN</td>\n",
       "    </tr>\n",
       "    <tr>\n",
       "      <th>3</th>\n",
       "      <td>8fcd243e9b9eebbe62ab145ce04b6ab5</td>\n",
       "      <td>SBKP</td>\n",
       "      <td>SBCF</td>\n",
       "      <td>1654045120000</td>\n",
       "      <td>1654047701000</td>\n",
       "      <td>1</td>\n",
       "      <td>1</td>\n",
       "      <td>wednesday</td>\n",
       "      <td>http://satelite.cptec.inpe.br/repositoriogoes/...</td>\n",
       "      <td>277</td>\n",
       "      <td>...</td>\n",
       "      <td>SBCF</td>\n",
       "      <td>MULTIPOINT ((-0.7733487457 -0.3473309624), (-0...</td>\n",
       "      <td>1.654078e+12</td>\n",
       "      <td>3</td>\n",
       "      <td>SBKP</td>\n",
       "      <td>1.654124e+12</td>\n",
       "      <td>1</td>\n",
       "      <td>KP</td>\n",
       "      <td>NaN</td>\n",
       "      <td>NaN</td>\n",
       "    </tr>\n",
       "    <tr>\n",
       "      <th>4</th>\n",
       "      <td>504a62621cd231d6ab67e674ce538cd3</td>\n",
       "      <td>SBCF</td>\n",
       "      <td>SBFL</td>\n",
       "      <td>1654045238000</td>\n",
       "      <td>1654050785000</td>\n",
       "      <td>1</td>\n",
       "      <td>1</td>\n",
       "      <td>wednesday</td>\n",
       "      <td>http://satelite.cptec.inpe.br/repositoriogoes/...</td>\n",
       "      <td>1242</td>\n",
       "      <td>...</td>\n",
       "      <td>SBCF</td>\n",
       "      <td>MULTIPOINT ((-0.8475488606 -0.4827363881), (-0...</td>\n",
       "      <td>NaN</td>\n",
       "      <td>0</td>\n",
       "      <td>NaN</td>\n",
       "      <td>1.654124e+12</td>\n",
       "      <td>1</td>\n",
       "      <td>FL</td>\n",
       "      <td>1.654045e+12</td>\n",
       "      <td>SBFL</td>\n",
       "    </tr>\n",
       "  </tbody>\n",
       "</table>\n",
       "<p>5 rows × 28 columns</p>\n",
       "</div>"
      ],
      "text/plain": [
       "                           flightid origem destino         dt_dep  \\\n",
       "0  fcb2bf90345705318213ae1307c0f901   SBKP    SBRJ  1654044297000   \n",
       "1  c7c5c10716335b048f86d8c52fcba3f2   SBGR    SBRJ  1654045021000   \n",
       "2  3162de7203a972f071d5a48e8f0f4828   SBBR    SBRJ  1654043212000   \n",
       "3  8fcd243e9b9eebbe62ab145ce04b6ab5   SBKP    SBCF  1654045120000   \n",
       "4  504a62621cd231d6ab67e674ce538cd3   SBCF    SBFL  1654045238000   \n",
       "\n",
       "          dt_arr  day  hour    weekday  \\\n",
       "0  1654046760000    1     1  wednesday   \n",
       "1  1654047173000    1     1  wednesday   \n",
       "2  1654047825000    1     1  wednesday   \n",
       "3  1654047701000    1     1  wednesday   \n",
       "4  1654050785000    1     1  wednesday   \n",
       "\n",
       "                                                path  distance_path_km  ...  \\\n",
       "0  http://satelite.cptec.inpe.br/repositoriogoes/...               228  ...   \n",
       "1  http://satelite.cptec.inpe.br/repositoriogoes/...                73  ...   \n",
       "2  http://satelite.cptec.inpe.br/repositoriogoes/...               253  ...   \n",
       "3  http://satelite.cptec.inpe.br/repositoriogoes/...               277  ...   \n",
       "4  http://satelite.cptec.inpe.br/repositoriogoes/...              1242  ...   \n",
       "\n",
       "   aero_metar                                     snapshot_radar  \\\n",
       "0        SBKP  MULTIPOINT ((-0.7536792855 -0.3990632025), (-0...   \n",
       "1        SBGR  MULTIPOINT ((-0.7899858672 -0.4100310496), (-0...   \n",
       "2        SBBR  MULTIPOINT ((-0.7738062221 -0.3789342454), (-0...   \n",
       "3        SBCF  MULTIPOINT ((-0.7733487457 -0.3473309624), (-0...   \n",
       "4        SBCF  MULTIPOINT ((-0.8475488606 -0.4827363881), (-0...   \n",
       "\n",
       "   hora_esperas  esperas aero_esperas      hora_tcp  troca aero_tcp  \\\n",
       "0  1.654078e+12        3         SBKP  1.654124e+12      1       RJ   \n",
       "1  1.654121e+12        2         SBGR  1.654124e+12      1       RJ   \n",
       "2           NaN        0          NaN  1.654124e+12      1       RJ   \n",
       "3  1.654078e+12        3         SBKP  1.654124e+12      1       KP   \n",
       "4           NaN        0          NaN  1.654124e+12      1       FL   \n",
       "\n",
       "       hora_tcr aero_tcr  \n",
       "0           NaN      NaN  \n",
       "1           NaN      NaN  \n",
       "2           NaN      NaN  \n",
       "3           NaN      NaN  \n",
       "4  1.654045e+12     SBFL  \n",
       "\n",
       "[5 rows x 28 columns]"
      ]
     },
     "execution_count": 5,
     "metadata": {},
     "output_type": "execute_result"
    }
   ],
   "source": [
    "df.head()"
   ]
  },
  {
   "cell_type": "code",
   "execution_count": 76,
   "metadata": {},
   "outputs": [
    {
     "data": {
      "text/plain": [
       "0    2022-06-01 00:44:57\n",
       "1    2022-06-01 00:57:01\n",
       "2    2022-06-01 00:26:52\n",
       "3    2022-06-01 00:58:40\n",
       "4    2022-06-01 01:00:38\n",
       "5    2022-06-01 00:15:31\n",
       "6    2022-06-01 09:20:04\n",
       "7    2022-06-01 00:59:53\n",
       "8    2022-06-01 01:20:45\n",
       "9    2022-06-01 01:13:59\n",
       "10   2022-06-01 00:43:22\n",
       "11   2022-06-01 01:26:38\n",
       "12   2022-06-01 00:51:05\n",
       "13   2022-06-01 00:49:22\n",
       "14   2022-06-01 01:14:56\n",
       "15   2022-06-01 01:26:19\n",
       "16   2022-06-01 11:27:00\n",
       "17   2022-06-01 11:21:30\n",
       "18   2022-06-01 11:33:30\n",
       "19   2022-06-01 11:08:46\n",
       "20   2022-06-01 10:48:07\n",
       "21   2022-06-01 11:38:20\n",
       "22   2022-06-01 12:12:29\n",
       "23   2022-06-01 00:21:29\n",
       "24   2022-06-01 01:33:36\n",
       "25   2022-06-01 01:30:13\n",
       "26   2022-06-01 01:51:17\n",
       "27   2022-06-01 01:48:03\n",
       "28   2022-06-01 10:41:40\n",
       "29   2022-06-01 11:09:11\n",
       "30   2022-06-01 10:20:31\n",
       "31   2022-06-01 10:49:59\n",
       "32   2022-06-01 11:01:47\n",
       "33   2022-06-01 11:08:40\n",
       "34   2022-06-01 09:13:39\n",
       "35   2022-06-01 12:01:48\n",
       "36   2022-06-01 11:43:24\n",
       "37   2022-06-01 12:39:03\n",
       "38   2022-06-01 12:46:40\n",
       "39   2022-06-01 09:58:16\n",
       "40   2022-06-01 10:27:09\n",
       "41   2022-06-01 10:50:50\n",
       "42   2022-06-01 09:53:00\n",
       "43   2022-06-01 10:52:17\n",
       "44   2022-06-01 10:09:23\n",
       "45   2022-06-01 11:52:17\n",
       "46   2022-06-01 12:04:03\n",
       "47   2022-06-01 10:05:18\n",
       "48   2022-06-01 10:05:40\n",
       "49   2022-06-01 10:29:45\n",
       "Name: dt_dep, dtype: datetime64[ns]"
      ]
     },
     "execution_count": 76,
     "metadata": {},
     "output_type": "execute_result"
    }
   ],
   "source": [
    "df[\"dt_dep\"].apply(lambda x: pd.to_datetime(x, unit='ms'))"
   ]
  },
  {
   "cell_type": "code",
   "execution_count": 6,
   "metadata": {},
   "outputs": [
    {
     "data": {
      "text/plain": [
       "Index(['flightid', 'origem', 'destino', 'dt_dep', 'dt_arr', 'day', 'hour',\n",
       "       'weekday', 'path', 'distance_path_km', 'avg_speed', 'avg_flightlevel',\n",
       "       'dt_prev', 'hora_metaf', 'metaf', 'aero_metaf', 'hora_metar', 'metar',\n",
       "       'aero_metar', 'snapshot_radar', 'hora_esperas', 'esperas',\n",
       "       'aero_esperas', 'hora_tcp', 'troca', 'aero_tcp', 'hora_tcr',\n",
       "       'aero_tcr'],\n",
       "      dtype='object')"
      ]
     },
     "execution_count": 6,
     "metadata": {},
     "output_type": "execute_result"
    }
   ],
   "source": [
    "df.columns"
   ]
  },
  {
   "cell_type": "markdown",
   "metadata": {},
   "source": [
    "# load metaf data"
   ]
  },
  {
   "cell_type": "code",
   "execution_count": 23,
   "metadata": {},
   "outputs": [],
   "source": [
    "metaf_2022_06_02 = pd.read_csv('../../data/bruto/metaf/metaf_2022-06-02_2022-06-02.csv')"
   ]
  },
  {
   "cell_type": "code",
   "execution_count": 31,
   "metadata": {},
   "outputs": [],
   "source": [
    "metaf_2022_06_01 = pd.read_csv('../../data/bruto/metaf/metaf_2022-06-01_2022-06-01.csv')"
   ]
  },
  {
   "cell_type": "code",
   "execution_count": 74,
   "metadata": {},
   "outputs": [],
   "source": [
    "metaf_2022_06_03 = pd.read_csv('../../data/bruto/metaf/metaf_2022-06-03_2022-06-03.csv')"
   ]
  },
  {
   "cell_type": "markdown",
   "metadata": {},
   "source": [
    "# exploratory analysis of metaf data"
   ]
  },
  {
   "cell_type": "code",
   "execution_count": 24,
   "metadata": {},
   "outputs": [
    {
     "data": {
      "text/html": [
       "<div>\n",
       "<style scoped>\n",
       "    .dataframe tbody tr th:only-of-type {\n",
       "        vertical-align: middle;\n",
       "    }\n",
       "\n",
       "    .dataframe tbody tr th {\n",
       "        vertical-align: top;\n",
       "    }\n",
       "\n",
       "    .dataframe thead th {\n",
       "        text-align: right;\n",
       "    }\n",
       "</style>\n",
       "<table border=\"1\" class=\"dataframe\">\n",
       "  <thead>\n",
       "    <tr style=\"text-align: right;\">\n",
       "      <th></th>\n",
       "      <th>hora</th>\n",
       "      <th>metaf</th>\n",
       "      <th>aero</th>\n",
       "    </tr>\n",
       "  </thead>\n",
       "  <tbody>\n",
       "    <tr>\n",
       "      <th>0</th>\n",
       "      <td>1654128000000</td>\n",
       "      <td>METAF SBGL 020000Z  10005KT CAVOK 24/21 Q1014=\\n</td>\n",
       "      <td>SBGL</td>\n",
       "    </tr>\n",
       "    <tr>\n",
       "      <th>1</th>\n",
       "      <td>1654131600000</td>\n",
       "      <td>METAF SBGL 020100Z  20003KT CAVOK 24/21 Q1014=\\n</td>\n",
       "      <td>SBGL</td>\n",
       "    </tr>\n",
       "    <tr>\n",
       "      <th>2</th>\n",
       "      <td>1654192800000</td>\n",
       "      <td>METAF SBGL 021800Z  20012KT 7000       OVC019 ...</td>\n",
       "      <td>SBGL</td>\n",
       "    </tr>\n",
       "    <tr>\n",
       "      <th>3</th>\n",
       "      <td>1654196400000</td>\n",
       "      <td>METAF SBGL 021900Z  20012KT 7000       OVC033 ...</td>\n",
       "      <td>SBGL</td>\n",
       "    </tr>\n",
       "    <tr>\n",
       "      <th>4</th>\n",
       "      <td>1654200000000</td>\n",
       "      <td>METAF SBGL 022000Z  20011KT 6000       OVC015 ...</td>\n",
       "      <td>SBGL</td>\n",
       "    </tr>\n",
       "  </tbody>\n",
       "</table>\n",
       "</div>"
      ],
      "text/plain": [
       "            hora                                              metaf  aero\n",
       "0  1654128000000   METAF SBGL 020000Z  10005KT CAVOK 24/21 Q1014=\\n  SBGL\n",
       "1  1654131600000   METAF SBGL 020100Z  20003KT CAVOK 24/21 Q1014=\\n  SBGL\n",
       "2  1654192800000  METAF SBGL 021800Z  20012KT 7000       OVC019 ...  SBGL\n",
       "3  1654196400000  METAF SBGL 021900Z  20012KT 7000       OVC033 ...  SBGL\n",
       "4  1654200000000  METAF SBGL 022000Z  20011KT 6000       OVC015 ...  SBGL"
      ]
     },
     "execution_count": 24,
     "metadata": {},
     "output_type": "execute_result"
    }
   ],
   "source": [
    "metaf_2022_06_02.head()"
   ]
  },
  {
   "cell_type": "markdown",
   "metadata": {},
   "source": [
    "### Hora data is in miliseconds (hour*3600000)"
   ]
  },
  {
   "cell_type": "code",
   "execution_count": null,
   "metadata": {},
   "outputs": [],
   "source": [
    "diff = metaf_2022_06_02[\"hora\"][0] - metaf_2022_06_01[\"hora\"][0]\n",
    "diff"
   ]
  },
  {
   "cell_type": "code",
   "execution_count": 35,
   "metadata": {},
   "outputs": [
    {
     "data": {
      "text/plain": [
       "24.0"
      ]
     },
     "execution_count": 35,
     "metadata": {},
     "output_type": "execute_result"
    }
   ],
   "source": [
    "diff/3600000"
   ]
  },
  {
   "cell_type": "code",
   "execution_count": 36,
   "metadata": {},
   "outputs": [
    {
     "data": {
      "text/plain": [
       "459480.0"
      ]
     },
     "execution_count": 36,
     "metadata": {},
     "output_type": "execute_result"
    }
   ],
   "source": [
    "metaf_2022_06_02[\"hora\"][0]/3600000"
   ]
  },
  {
   "cell_type": "code",
   "execution_count": 37,
   "metadata": {},
   "outputs": [],
   "source": [
    "metaf_2022_06_01[\"hora\"]=metaf_2022_06_01[\"hora\"]/3600000"
   ]
  },
  {
   "cell_type": "code",
   "execution_count": 39,
   "metadata": {},
   "outputs": [
    {
     "data": {
      "text/plain": [
       "count        96.000000\n",
       "mean     459467.500000\n",
       "std           6.958524\n",
       "min      459456.000000\n",
       "25%      459461.750000\n",
       "50%      459467.500000\n",
       "75%      459473.250000\n",
       "max      459479.000000\n",
       "Name: hora, dtype: float64"
      ]
     },
     "execution_count": 39,
     "metadata": {},
     "output_type": "execute_result"
    }
   ],
   "source": [
    "metaf_2022_06_01[\"hora\"].describe()"
   ]
  },
  {
   "cell_type": "code",
   "execution_count": 41,
   "metadata": {},
   "outputs": [
    {
     "data": {
      "text/plain": [
       "23.0"
      ]
     },
     "execution_count": 41,
     "metadata": {},
     "output_type": "execute_result"
    }
   ],
   "source": [
    "metaf_2022_06_01[\"hora\"].max()-metaf_2022_06_01[\"hora\"].min()"
   ]
  },
  {
   "cell_type": "code",
   "execution_count": 42,
   "metadata": {},
   "outputs": [],
   "source": [
    "metaf_2022_06_02[\"hora\"]=metaf_2022_06_02[\"hora\"]/3600000"
   ]
  },
  {
   "cell_type": "code",
   "execution_count": 44,
   "metadata": {},
   "outputs": [
    {
     "data": {
      "text/plain": [
       "-1.0"
      ]
     },
     "execution_count": 44,
     "metadata": {},
     "output_type": "execute_result"
    }
   ],
   "source": [
    "metaf_2022_06_01[\"hora\"].max()-metaf_2022_06_02[\"hora\"].min()"
   ]
  },
  {
   "cell_type": "markdown",
   "metadata": {},
   "source": [
    "### data is hourly"
   ]
  },
  {
   "cell_type": "code",
   "execution_count": 47,
   "metadata": {},
   "outputs": [
    {
     "data": {
      "text/plain": [
       "1.0"
      ]
     },
     "execution_count": 47,
     "metadata": {},
     "output_type": "execute_result"
    }
   ],
   "source": [
    "metaf_2022_06_01[\"hora\"][1]-metaf_2022_06_01[\"hora\"][0]\n"
   ]
  },
  {
   "cell_type": "markdown",
   "metadata": {},
   "source": [
    "### there is data represented for 4 airports"
   ]
  },
  {
   "cell_type": "code",
   "execution_count": 51,
   "metadata": {},
   "outputs": [
    {
     "data": {
      "text/html": [
       "<div>\n",
       "<style scoped>\n",
       "    .dataframe tbody tr th:only-of-type {\n",
       "        vertical-align: middle;\n",
       "    }\n",
       "\n",
       "    .dataframe tbody tr th {\n",
       "        vertical-align: top;\n",
       "    }\n",
       "\n",
       "    .dataframe thead th {\n",
       "        text-align: right;\n",
       "    }\n",
       "</style>\n",
       "<table border=\"1\" class=\"dataframe\">\n",
       "  <thead>\n",
       "    <tr style=\"text-align: right;\">\n",
       "      <th></th>\n",
       "      <th>hora</th>\n",
       "      <th>metaf</th>\n",
       "      <th>aero</th>\n",
       "    </tr>\n",
       "  </thead>\n",
       "  <tbody>\n",
       "    <tr>\n",
       "      <th>0</th>\n",
       "      <td>459456.0</td>\n",
       "      <td>METAF SBGL 010000Z  25002KT 3000     BR OVC033...</td>\n",
       "      <td>SBGL</td>\n",
       "    </tr>\n",
       "    <tr>\n",
       "      <th>24</th>\n",
       "      <td>459456.0</td>\n",
       "      <td>METAF SBGR 010000Z  12008KT 1000     BR OVC033...</td>\n",
       "      <td>SBGR</td>\n",
       "    </tr>\n",
       "    <tr>\n",
       "      <th>48</th>\n",
       "      <td>459456.0</td>\n",
       "      <td>METAF SBKP 010000Z  12013KT 5000     BR BKN033...</td>\n",
       "      <td>SBKP</td>\n",
       "    </tr>\n",
       "    <tr>\n",
       "      <th>72</th>\n",
       "      <td>459456.0</td>\n",
       "      <td>METAF SBSP 010000Z  13008KT 1000     BR OVC033...</td>\n",
       "      <td>SBSP</td>\n",
       "    </tr>\n",
       "  </tbody>\n",
       "</table>\n",
       "</div>"
      ],
      "text/plain": [
       "        hora                                              metaf  aero\n",
       "0   459456.0  METAF SBGL 010000Z  25002KT 3000     BR OVC033...  SBGL\n",
       "24  459456.0  METAF SBGR 010000Z  12008KT 1000     BR OVC033...  SBGR\n",
       "48  459456.0  METAF SBKP 010000Z  12013KT 5000     BR BKN033...  SBKP\n",
       "72  459456.0  METAF SBSP 010000Z  13008KT 1000     BR OVC033...  SBSP"
      ]
     },
     "execution_count": 51,
     "metadata": {},
     "output_type": "execute_result"
    }
   ],
   "source": [
    "metaf_2022_06_01[metaf_2022_06_01[\"hora\"]==metaf_2022_06_01[\"hora\"].min()]"
   ]
  },
  {
   "cell_type": "code",
   "execution_count": 52,
   "metadata": {},
   "outputs": [
    {
     "data": {
      "text/plain": [
       "count       96\n",
       "unique       4\n",
       "top       SBGL\n",
       "freq        24\n",
       "Name: aero, dtype: object"
      ]
     },
     "execution_count": 52,
     "metadata": {},
     "output_type": "execute_result"
    }
   ],
   "source": [
    "metaf_2022_06_01[\"aero\"].describe()"
   ]
  },
  {
   "cell_type": "code",
   "execution_count": 53,
   "metadata": {},
   "outputs": [],
   "source": [
    "metaf_2022_06_01_SBGL = metaf_2022_06_01[metaf_2022_06_01[\"aero\"]==\"SBGL\"]"
   ]
  },
  {
   "cell_type": "code",
   "execution_count": 54,
   "metadata": {},
   "outputs": [
    {
     "data": {
      "text/plain": [
       "count        24.000000\n",
       "mean     459467.500000\n",
       "std           7.071068\n",
       "min      459456.000000\n",
       "25%      459461.750000\n",
       "50%      459467.500000\n",
       "75%      459473.250000\n",
       "max      459479.000000\n",
       "Name: hora, dtype: float64"
      ]
     },
     "execution_count": 54,
     "metadata": {},
     "output_type": "execute_result"
    }
   ],
   "source": [
    "metaf_2022_06_01_SBGL[\"hora\"].describe()"
   ]
  },
  {
   "cell_type": "code",
   "execution_count": 55,
   "metadata": {},
   "outputs": [],
   "source": [
    "metaf_2022_06_02_SBGL = metaf_2022_06_02[metaf_2022_06_02[\"aero\"]==\"SBGL\"]"
   ]
  },
  {
   "cell_type": "code",
   "execution_count": 56,
   "metadata": {},
   "outputs": [
    {
     "data": {
      "text/plain": [
       "count         8.000000\n",
       "mean     459495.500000\n",
       "std           9.396048\n",
       "min      459480.000000\n",
       "25%      459493.750000\n",
       "50%      459499.500000\n",
       "75%      459501.250000\n",
       "max      459503.000000\n",
       "Name: hora, dtype: float64"
      ]
     },
     "execution_count": 56,
     "metadata": {},
     "output_type": "execute_result"
    }
   ],
   "source": [
    "metaf_2022_06_02_SBGL[\"hora\"].describe()"
   ]
  },
  {
   "cell_type": "code",
   "execution_count": 57,
   "metadata": {},
   "outputs": [
    {
     "data": {
      "text/plain": [
       "count       32\n",
       "unique       4\n",
       "top       SBGL\n",
       "freq         8\n",
       "Name: aero, dtype: object"
      ]
     },
     "execution_count": 57,
     "metadata": {},
     "output_type": "execute_result"
    }
   ],
   "source": [
    "metaf_2022_06_02[\"aero\"].describe()"
   ]
  },
  {
   "cell_type": "code",
   "execution_count": 59,
   "metadata": {},
   "outputs": [
    {
     "data": {
      "text/plain": [
       "array(['SBGL', 'SBGR', 'SBKP', 'SBSP'], dtype=object)"
      ]
     },
     "execution_count": 59,
     "metadata": {},
     "output_type": "execute_result"
    }
   ],
   "source": [
    "metaf_2022_06_02[\"aero\"].unique()"
   ]
  },
  {
   "cell_type": "markdown",
   "metadata": {},
   "source": [
    "### data is consistent from day to day"
   ]
  },
  {
   "cell_type": "code",
   "execution_count": 60,
   "metadata": {},
   "outputs": [
    {
     "data": {
      "text/plain": [
       "array([ True,  True,  True,  True])"
      ]
     },
     "execution_count": 60,
     "metadata": {},
     "output_type": "execute_result"
    }
   ],
   "source": [
    "metaf_2022_06_02[\"aero\"].unique() == metaf_2022_06_01[\"aero\"].unique()  "
   ]
  },
  {
   "cell_type": "code",
   "execution_count": 72,
   "metadata": {},
   "outputs": [],
   "source": [
    "metaf_2022_06_01[\"hora_dt\"] = metaf_2022_06_01[\"hora\"].apply(lambda x: pd.to_datetime(x, unit='h'))\n",
    "metaf_2022_06_02[\"hora_dt\"] = metaf_2022_06_02[\"hora\"].apply(lambda x: pd.to_datetime(x, unit='h'))"
   ]
  },
  {
   "cell_type": "code",
   "execution_count": 75,
   "metadata": {},
   "outputs": [
    {
     "data": {
      "text/plain": [
       "0   2022-06-03 00:00:00\n",
       "1   2022-06-03 01:00:00\n",
       "2   2022-06-03 02:00:00\n",
       "3   2022-06-03 03:00:00\n",
       "4   2022-06-03 04:00:00\n",
       "Name: hora_dt, dtype: datetime64[ns]"
      ]
     },
     "execution_count": 75,
     "metadata": {},
     "output_type": "execute_result"
    }
   ],
   "source": [
    "metaf_2022_06_03[\"hora_dt\"] = metaf_2022_06_03[\"hora\"].apply(lambda x: pd.to_datetime(x, unit='ms'))\n",
    "metaf_2022_06_03[\"hora_dt\"].head()"
   ]
  },
  {
   "cell_type": "markdown",
   "metadata": {},
   "source": [
    "# daily data for june"
   ]
  },
  {
   "cell_type": "code",
   "execution_count": 26,
   "metadata": {},
   "outputs": [
    {
     "data": {
      "text/html": [
       "<div>\n",
       "<style scoped>\n",
       "    .dataframe tbody tr th:only-of-type {\n",
       "        vertical-align: middle;\n",
       "    }\n",
       "\n",
       "    .dataframe tbody tr th {\n",
       "        vertical-align: top;\n",
       "    }\n",
       "\n",
       "    .dataframe thead th {\n",
       "        text-align: right;\n",
       "    }\n",
       "</style>\n",
       "<table border=\"1\" class=\"dataframe\">\n",
       "  <thead>\n",
       "    <tr style=\"text-align: right;\">\n",
       "      <th></th>\n",
       "      <th>hora</th>\n",
       "    </tr>\n",
       "  </thead>\n",
       "  <tbody>\n",
       "    <tr>\n",
       "      <th>count</th>\n",
       "      <td>2.312000e+03</td>\n",
       "    </tr>\n",
       "    <tr>\n",
       "      <th>mean</th>\n",
       "      <td>1.655445e+12</td>\n",
       "    </tr>\n",
       "    <tr>\n",
       "      <th>std</th>\n",
       "      <td>7.349957e+08</td>\n",
       "    </tr>\n",
       "    <tr>\n",
       "      <th>min</th>\n",
       "      <td>1.654042e+12</td>\n",
       "    </tr>\n",
       "    <tr>\n",
       "      <th>25%</th>\n",
       "      <td>1.654848e+12</td>\n",
       "    </tr>\n",
       "    <tr>\n",
       "      <th>50%</th>\n",
       "      <td>1.655555e+12</td>\n",
       "    </tr>\n",
       "    <tr>\n",
       "      <th>75%</th>\n",
       "      <td>1.656076e+12</td>\n",
       "    </tr>\n",
       "    <tr>\n",
       "      <th>max</th>\n",
       "      <td>1.656630e+12</td>\n",
       "    </tr>\n",
       "  </tbody>\n",
       "</table>\n",
       "</div>"
      ],
      "text/plain": [
       "               hora\n",
       "count  2.312000e+03\n",
       "mean   1.655445e+12\n",
       "std    7.349957e+08\n",
       "min    1.654042e+12\n",
       "25%    1.654848e+12\n",
       "50%    1.655555e+12\n",
       "75%    1.656076e+12\n",
       "max    1.656630e+12"
      ]
     },
     "execution_count": 26,
     "metadata": {},
     "output_type": "execute_result"
    }
   ],
   "source": [
    "file_path = '../../data/processado/metaf/metaf_2022-06-01_2022-06-30.csv'\n",
    "metaf_june_2022 = pd.read_csv(file_path)\n",
    "metaf_june_2022.describe()"
   ]
  },
  {
   "cell_type": "code",
   "execution_count": 27,
   "metadata": {},
   "outputs": [
    {
     "data": {
      "text/html": [
       "<div>\n",
       "<style scoped>\n",
       "    .dataframe tbody tr th:only-of-type {\n",
       "        vertical-align: middle;\n",
       "    }\n",
       "\n",
       "    .dataframe tbody tr th {\n",
       "        vertical-align: top;\n",
       "    }\n",
       "\n",
       "    .dataframe thead th {\n",
       "        text-align: right;\n",
       "    }\n",
       "</style>\n",
       "<table border=\"1\" class=\"dataframe\">\n",
       "  <thead>\n",
       "    <tr style=\"text-align: right;\">\n",
       "      <th></th>\n",
       "      <th>hora</th>\n",
       "      <th>metaf</th>\n",
       "      <th>aero</th>\n",
       "      <th>hora_dt</th>\n",
       "    </tr>\n",
       "  </thead>\n",
       "  <tbody>\n",
       "    <tr>\n",
       "      <th>0</th>\n",
       "      <td>1654041600000</td>\n",
       "      <td>METAF SBGL 010000Z  25002KT 3000     BR OVC033...</td>\n",
       "      <td>SBGL</td>\n",
       "      <td>2022-06-01 00:00:00</td>\n",
       "    </tr>\n",
       "    <tr>\n",
       "      <th>1</th>\n",
       "      <td>1654045200000</td>\n",
       "      <td>METAF SBGL 010100Z 02001KT 2000     BR OVC011 ...</td>\n",
       "      <td>SBGL</td>\n",
       "      <td>2022-06-01 01:00:00</td>\n",
       "    </tr>\n",
       "    <tr>\n",
       "      <th>2</th>\n",
       "      <td>1654048800000</td>\n",
       "      <td>METAF SBGL 010200Z 09000KT 2000     BR OVC011 ...</td>\n",
       "      <td>SBGL</td>\n",
       "      <td>2022-06-01 02:00:00</td>\n",
       "    </tr>\n",
       "    <tr>\n",
       "      <th>3</th>\n",
       "      <td>1654052400000</td>\n",
       "      <td>METAF SBGL 010300Z 09002KT 1000    RABR OVC033...</td>\n",
       "      <td>SBGL</td>\n",
       "      <td>2022-06-01 03:00:00</td>\n",
       "    </tr>\n",
       "    <tr>\n",
       "      <th>4</th>\n",
       "      <td>1654056000000</td>\n",
       "      <td>METAF SBGL 010400Z 07003KT 1000    RABR OVC033...</td>\n",
       "      <td>SBGL</td>\n",
       "      <td>2022-06-01 04:00:00</td>\n",
       "    </tr>\n",
       "  </tbody>\n",
       "</table>\n",
       "</div>"
      ],
      "text/plain": [
       "            hora                                              metaf  aero  \\\n",
       "0  1654041600000  METAF SBGL 010000Z  25002KT 3000     BR OVC033...  SBGL   \n",
       "1  1654045200000  METAF SBGL 010100Z 02001KT 2000     BR OVC011 ...  SBGL   \n",
       "2  1654048800000  METAF SBGL 010200Z 09000KT 2000     BR OVC011 ...  SBGL   \n",
       "3  1654052400000  METAF SBGL 010300Z 09002KT 1000    RABR OVC033...  SBGL   \n",
       "4  1654056000000  METAF SBGL 010400Z 07003KT 1000    RABR OVC033...  SBGL   \n",
       "\n",
       "               hora_dt  \n",
       "0  2022-06-01 00:00:00  \n",
       "1  2022-06-01 01:00:00  \n",
       "2  2022-06-01 02:00:00  \n",
       "3  2022-06-01 03:00:00  \n",
       "4  2022-06-01 04:00:00  "
      ]
     },
     "execution_count": 27,
     "metadata": {},
     "output_type": "execute_result"
    }
   ],
   "source": [
    "metaf_june_2022.head()"
   ]
  },
  {
   "cell_type": "code",
   "execution_count": 28,
   "metadata": {},
   "outputs": [
    {
     "data": {
      "text/plain": [
       "hora        int64\n",
       "metaf      object\n",
       "aero       object\n",
       "hora_dt    object\n",
       "dtype: object"
      ]
     },
     "execution_count": 28,
     "metadata": {},
     "output_type": "execute_result"
    }
   ],
   "source": [
    "metaf_june_2022.dtypes"
   ]
  },
  {
   "cell_type": "code",
   "execution_count": 29,
   "metadata": {},
   "outputs": [],
   "source": [
    "metaf_june_2022[\"hora_dt\"] = pd.to_datetime(metaf_june_2022[\"hora_dt\"])"
   ]
  },
  {
   "cell_type": "code",
   "execution_count": 30,
   "metadata": {},
   "outputs": [
    {
     "data": {
      "text/plain": [
       "count                             2312\n",
       "mean     2022-06-17 05:57:36.747404800\n",
       "min                2022-06-01 00:00:00\n",
       "25%                2022-06-10 08:00:00\n",
       "50%                2022-06-18 12:30:00\n",
       "75%                2022-06-24 13:00:00\n",
       "max                2022-06-30 23:00:00\n",
       "Name: hora_dt, dtype: object"
      ]
     },
     "execution_count": 30,
     "metadata": {},
     "output_type": "execute_result"
    }
   ],
   "source": [
    "metaf_june_2022[\"hora_dt\"].describe()"
   ]
  },
  {
   "cell_type": "code",
   "execution_count": 31,
   "metadata": {},
   "outputs": [],
   "source": [
    "# set index [hora_dt, aero]\n",
    "# metaf_june_2022.set_index([\"hora_dt\", \"aero\"], inplace=True)"
   ]
  },
  {
   "cell_type": "code",
   "execution_count": 32,
   "metadata": {},
   "outputs": [],
   "source": [
    "metaf_june_2022_SBGL = metaf_june_2022[metaf_june_2022[\"aero\"]==\"SBGL\"].copy()"
   ]
  },
  {
   "cell_type": "code",
   "execution_count": 33,
   "metadata": {},
   "outputs": [
    {
     "data": {
      "text/html": [
       "<div>\n",
       "<style scoped>\n",
       "    .dataframe tbody tr th:only-of-type {\n",
       "        vertical-align: middle;\n",
       "    }\n",
       "\n",
       "    .dataframe tbody tr th {\n",
       "        vertical-align: top;\n",
       "    }\n",
       "\n",
       "    .dataframe thead th {\n",
       "        text-align: right;\n",
       "    }\n",
       "</style>\n",
       "<table border=\"1\" class=\"dataframe\">\n",
       "  <thead>\n",
       "    <tr style=\"text-align: right;\">\n",
       "      <th></th>\n",
       "      <th>hora</th>\n",
       "      <th>metaf</th>\n",
       "      <th>aero</th>\n",
       "      <th>hora_dt</th>\n",
       "    </tr>\n",
       "  </thead>\n",
       "  <tbody>\n",
       "    <tr>\n",
       "      <th>0</th>\n",
       "      <td>1654041600000</td>\n",
       "      <td>METAF SBGL 010000Z  25002KT 3000     BR OVC033...</td>\n",
       "      <td>SBGL</td>\n",
       "      <td>2022-06-01 00:00:00</td>\n",
       "    </tr>\n",
       "    <tr>\n",
       "      <th>1</th>\n",
       "      <td>1654045200000</td>\n",
       "      <td>METAF SBGL 010100Z 02001KT 2000     BR OVC011 ...</td>\n",
       "      <td>SBGL</td>\n",
       "      <td>2022-06-01 01:00:00</td>\n",
       "    </tr>\n",
       "    <tr>\n",
       "      <th>2</th>\n",
       "      <td>1654048800000</td>\n",
       "      <td>METAF SBGL 010200Z 09000KT 2000     BR OVC011 ...</td>\n",
       "      <td>SBGL</td>\n",
       "      <td>2022-06-01 02:00:00</td>\n",
       "    </tr>\n",
       "    <tr>\n",
       "      <th>3</th>\n",
       "      <td>1654052400000</td>\n",
       "      <td>METAF SBGL 010300Z 09002KT 1000    RABR OVC033...</td>\n",
       "      <td>SBGL</td>\n",
       "      <td>2022-06-01 03:00:00</td>\n",
       "    </tr>\n",
       "    <tr>\n",
       "      <th>4</th>\n",
       "      <td>1654056000000</td>\n",
       "      <td>METAF SBGL 010400Z 07003KT 1000    RABR OVC033...</td>\n",
       "      <td>SBGL</td>\n",
       "      <td>2022-06-01 04:00:00</td>\n",
       "    </tr>\n",
       "  </tbody>\n",
       "</table>\n",
       "</div>"
      ],
      "text/plain": [
       "            hora                                              metaf  aero  \\\n",
       "0  1654041600000  METAF SBGL 010000Z  25002KT 3000     BR OVC033...  SBGL   \n",
       "1  1654045200000  METAF SBGL 010100Z 02001KT 2000     BR OVC011 ...  SBGL   \n",
       "2  1654048800000  METAF SBGL 010200Z 09000KT 2000     BR OVC011 ...  SBGL   \n",
       "3  1654052400000  METAF SBGL 010300Z 09002KT 1000    RABR OVC033...  SBGL   \n",
       "4  1654056000000  METAF SBGL 010400Z 07003KT 1000    RABR OVC033...  SBGL   \n",
       "\n",
       "              hora_dt  \n",
       "0 2022-06-01 00:00:00  \n",
       "1 2022-06-01 01:00:00  \n",
       "2 2022-06-01 02:00:00  \n",
       "3 2022-06-01 03:00:00  \n",
       "4 2022-06-01 04:00:00  "
      ]
     },
     "execution_count": 33,
     "metadata": {},
     "output_type": "execute_result"
    }
   ],
   "source": [
    "metaf_june_2022_SBGL.head()"
   ]
  },
  {
   "cell_type": "code",
   "execution_count": 34,
   "metadata": {},
   "outputs": [
    {
     "data": {
      "text/plain": [
       "hora                int64\n",
       "metaf              object\n",
       "aero               object\n",
       "hora_dt    datetime64[ns]\n",
       "dtype: object"
      ]
     },
     "execution_count": 34,
     "metadata": {},
     "output_type": "execute_result"
    }
   ],
   "source": [
    "metaf_june_2022_SBGL.dtypes"
   ]
  },
  {
   "cell_type": "markdown",
   "metadata": {},
   "source": [
    "CAVOK: Ceiling And Visibility OK"
   ]
  },
  {
   "cell_type": "code",
   "execution_count": 35,
   "metadata": {},
   "outputs": [],
   "source": [
    "columns = [\"report\", \"station\", \"dt_origin\", \"wind\", \"clouds\",\"temperature\", \"dew_point\",\"altimeter (hPA)\"]"
   ]
  },
  {
   "cell_type": "code",
   "execution_count": 36,
   "metadata": {},
   "outputs": [],
   "source": [
    "# in column metaf remove 9999\n",
    "metaf_june_2022_SBGL[\"metaf\"] = metaf_june_2022_SBGL[\"metaf\"].str.replace(\" 9999\", \"\")"
   ]
  },
  {
   "cell_type": "code",
   "execution_count": 37,
   "metadata": {},
   "outputs": [],
   "source": [
    "from limpeza_dados import clean_metaf\n",
    "metaf_june_2022_SBGL[\"metaf\"]=clean_metaf(metaf_june_2022_SBGL[\"metaf\"])"
   ]
  },
  {
   "cell_type": "code",
   "execution_count": 38,
   "metadata": {},
   "outputs": [
    {
     "data": {
      "text/plain": [
       "'METAF,SBGL,010000Z,25002KT,3000,BR,OVC033,23,21,Q1016'"
      ]
     },
     "execution_count": 38,
     "metadata": {},
     "output_type": "execute_result"
    }
   ],
   "source": [
    "metaf_june_2022_SBGL[\"metaf\"][0]"
   ]
  },
  {
   "cell_type": "code",
   "execution_count": 39,
   "metadata": {},
   "outputs": [
    {
     "name": "stdout",
     "output_type": "stream",
     "text": [
      "METAF,SBGL,011600Z,15003KT,0000,SCT033,25,20,Q1013\n",
      "METAF,SBGL,011700Z,17005KT,0000,SCT033,26,20,Q1013\n",
      "METAF,SBGL,011800Z,15008KT,0000,SCT030,26,21,Q1013\n",
      "METAF,SBGL,011900Z,13009KT,0000,FEW033,26,21,Q1013\n",
      "METAF,SBGL,012300Z,09007KT,10000,CAVOK,24,21,Q1014\n",
      "METAF,SBGL,020000Z,10005KT,10000,CAVOK,24,21,Q1014\n",
      "METAF,SBGL,020100Z,20003KT,10000,CAVOK,24,21,Q1014\n",
      "METAF,SBGL,031900Z,23005KT,0000,OVC027,23,19,Q1017\n",
      "METAF,SBGL,032000Z,24006KT,0000,BKN027,23,18,Q1018\n",
      "METAF,SBGL,032100Z,25006KT,0000,BKN023,23,18,Q1018\n",
      "METAF,SBGL,061800Z,17003KT,10000,CAVOK,24,16,Q1012\n",
      "METAF,SBGL,061900Z,15005KT,10000,CAVOK,25,16,Q1013\n",
      "METAF,SBGL,062000Z,17006KT,10000,CAVOK,24,17,Q1016\n",
      "METAF,SBGL,062100Z,13005KT,10000,CAVOK,24,17,Q1013\n",
      "METAF,SBGL,062200Z,11005KT,10000,CAVOK,24,17,Q1014\n",
      "METAF,SBGL,062300Z,07002KT,10000,CAVOK,23,17,Q1015\n",
      "METAF,SBGL,070000Z,14004KT,10000,CAVOK,23,16,Q1014\n",
      "METAF,SBGL,070100Z,13004KT,10000,CAVOK,22,16,Q1014\n",
      "METAF,SBGL,070200Z,11003KT,10000,CAVOK,22,16,Q1017\n",
      "METAF,SBGL,070300Z,07004KT,10000,CAVOK,22,15,Q1013\n",
      "METAF,SBGL,070400Z,06002KT,10000,CAVOK,22,15,Q1013\n",
      "METAF,SBGL,070500Z,24001KT,10000,CAVOK,23,15,Q1013\n",
      "METAF,SBGL,070600Z,23005KT,10000,CAVOK,21,14,Q1010\n",
      "METAF,SBGL,070700Z,18004KT,10000,CAVOK,21,14,Q1011\n",
      "METAF,SBGL,070800Z,18004KT,10000,CAVOK,21,15,Q1014\n",
      "METAF,SBGL,070900Z,16002KT,10000,CAVOK,21,15,Q1012\n",
      "METAF,SBGL,071000Z,35001KT,10000,CAVOK,21,15,Q1013\n",
      "METAF,SBGL,071100Z,28001KT,10000,CAVOK,22,15,Q1015\n",
      "METAF,SBGL,071200Z,27006KT,10000,CAVOK,22,14,Q1013\n",
      "METAF,SBGL,071300Z,34001KT,10000,CAVOK,23,15,Q1013\n",
      "METAF,SBGL,071400Z,05003KT,10000,CAVOK,23,16,Q1016\n",
      "METAF,SBGL,071500Z,09003KT,10000,CAVOK,23,16,Q1012\n",
      "METAF,SBGL,071600Z,14004KT,10000,CAVOK,24,16,Q1012\n",
      "METAF,SBGL,071700Z,15006KT,10000,CAVOK,24,16,Q1012\n",
      "METAF,SBGL,071800Z,17008KT,10000,CAVOK,24,18,Q1011\n",
      "METAF,SBGL,071900Z,17008KT,10000,CAVOK,23,19,Q1012\n",
      "METAF,SBGL,081600Z,09002KT,0000,FEW033,22,18,Q1014\n",
      "METAF,SBGL,081700Z,12002KT,10000,CAVOK,23,18,Q1014\n",
      "METAF,SBGL,081800Z,16009KT,10000,CAVOK,23,19,Q1012\n",
      "METAF,SBGL,101700Z,10003KT,10000,CAVOK,23,19,Q1013\n",
      "METAF,SBGL,101800Z,19005KT,10000,CAVOK,25,19,Q1009\n",
      "METAF,SBGL,101900Z,17010KT,10000,CAVOK,24,20,Q1011\n",
      "METAF,SBGL,112000Z,16005KT,0000,OVC033,21,16,Q1017\n",
      "METAF,SBGL,112100Z,16006KT,0000,OVC033,21,16,Q1016\n",
      "METAF,SBGL,121700Z,24001KT,0000,OVC033,20,15,Q1016\n",
      "METAF,SBGL,121800Z,22008KT,0000,OVC033,20,16,Q1013\n",
      "METAF,SBGL,121900Z,22007KT,0000,OVC033,20,15,Q1017\n",
      "METAF,SBGL,122000Z,25006KT,0000,OVC033,20,15,Q1018\n",
      "METAF,SBGL,122100Z,22006KT,0000,OVC033,20,15,Q1017\n",
      "METAF,SBGL,122200Z,26004KT,0000,OVC033,20,15,Q1017\n",
      "METAF,SBGL,122300Z,23007KT,0000,OVC033,20,15,Q1019\n",
      "METAF,SBGL,130000Z,21008KT,0000,OVC033,20,13,Q1017\n",
      "METAF,SBGL,130100Z,26003KT,0000,OVC033,20,13,Q1019\n",
      "METAF,SBGL,130200Z,27005KT,0000,OVC033,20,13,Q1021\n",
      "METAF,SBGL,130300Z,27006KT,0000,OVC033,19,13,Q1018\n",
      "METAF,SBGL,130400Z,31006KT,0000,BKN033,19,13,Q1017\n",
      "METAF,SBGL,130500Z,25006KT,0000,BKN033,19,13,Q1019\n",
      "METAF,SBGL,130600Z,31008KT,0000,FEW032,18,12,Q1016\n",
      "METAF,SBGL,130700Z,32010KT,10000,CAVOK,18,12,Q1020\n",
      "METAF,SBGL,130800Z,30011KT,10000,CAVOK,18,12,Q1021\n",
      "METAF,SBGL,130900Z,30010KT,10000,CAVOK,18,12,Q1018\n",
      "METAF,SBGL,131000Z,29008KT,10000,CAVOK,18,11,Q1019\n",
      "METAF,SBGL,131100Z,28006KT,10000,CAVOK,18,11,Q1022\n",
      "METAF,SBGL,131200Z,29009KT,0000,SCT033,18,12,Q1018\n",
      "METAF,SBGL,131300Z,28010KT,10000,CAVOK,19,12,Q1023\n",
      "METAF,SBGL,131400Z,28009KT,10000,CAVOK,21,11,Q1023\n",
      "METAF,SBGL,131500Z,27008KT,10000,CAVOK,22,11,Q1019\n",
      "METAF,SBGL,131600Z,20007KT,10000,CAVOK,22,12,Q1020\n",
      "METAF,SBGL,131700Z,20010KT,10000,CAVOK,21,13,Q1021\n",
      "METAF,SBGL,131800Z,25008KT,0000,SCT033,21,12,Q1017\n",
      "METAF,SBGL,131900Z,28008KT,0000,FEW033,21,12,Q1020\n",
      "METAF,SBGL,132000Z,28008KT,10000,CAVOK,21,12,Q1022\n",
      "METAF,SBGL,132100Z,25005KT,10000,CAVOK,20,12,Q1019\n",
      "METAF,SBGL,132200Z,22004KT,10000,CAVOK,20,13,Q1022\n",
      "METAF,SBGL,132300Z,25002KT,0000,BKN027,20,14,Q1024\n",
      "METAF,SBGL,140800Z,29008KT,0000,BKN030,18,13,Q1023\n",
      "METAF,SBGL,140900Z,29008KT,0000,BKN028,17,13,Q1021\n",
      "METAF,SBGL,141000Z,29007KT,0000,BKN028,17,13,Q1022\n",
      "METAF,SBGL,141100Z,30008KT,0000,OVC028,18,13,Q1023\n",
      "METAF,SBGL,141200Z,27007KT,0000,OVC026,18,12,Q1022\n",
      "METAF,SBGL,141300Z,28004KT,0000,OVC028,20,13,Q1024\n",
      "METAF,SBGL,141400Z,28004KT,0000,BKN033,21,13,Q1025\n",
      "METAF,SBGL,141500Z,35003KT,0000,OVC033,21,14,Q1022\n",
      "METAF,SBGL,141600Z,20002KT,0000,OVC029,21,14,Q1022\n",
      "METAF,SBGL,141700Z,17006KT,0000,BKN024,21,16,Q1022\n",
      "METAF,SBGL,141800Z,16005KT,0000,OVC026,21,15,Q1019\n",
      "METAF,SBGL,141900Z,14006KT,0000,OVC026,21,15,Q1022\n",
      "METAF,SBGL,142000Z,15005KT,0000,OVC026,21,15,Q1023\n",
      "METAF,SBGL,142100Z,13005KT,0000,OVC023,21,15,Q1022\n",
      "METAF,SBGL,142200Z,07006KT,0000,OVC021,20,16,Q1022\n",
      "METAF,SBGL,151400Z,36001KT,0000,FEW021,19,15,Q1024\n",
      "METAF,SBGL,151500Z,11000KT,10000,CAVOK,20,14,Q1021\n",
      "METAF,SBGL,151600Z,09000KT,10000,CAVOK,21,14,Q1021\n",
      "METAF,SBGL,151700Z,12002KT,10000,CAVOK,22,13,Q1020\n",
      "METAF,SBGL,151800Z,14003KT,10000,CAVOK,22,15,Q1019\n",
      "METAF,SBGL,151900Z,15008KT,10000,CAVOK,22,16,Q1020\n",
      "METAF,SBGL,152000Z,13009KT,10000,CAVOK,22,15,Q1020\n",
      "METAF,SBGL,152100Z,12008KT,0000,FEW033,21,15,Q1020\n",
      "METAF,SBGL,152200Z,12008KT,0000,SCT033,21,15,Q1021\n",
      "METAF,SBGL,152300Z,10007KT,10000,CAVOK,20,15,Q1021\n",
      "METAF,SBGL,160000Z,09006KT,10000,CAVOK,20,15,Q1021\n",
      "METAF,SBGL,160100Z,07006KT,10000,CAVOK,19,15,Q1021\n",
      "METAF,SBGL,180600Z,25005KT,10000,CAVOK,21,13,Q1009\n",
      "METAF,SBGL,180700Z,26002KT,10000,CAVOK,21,13,Q1009\n",
      "METAF,SBGL,180800Z,07001KT,10000,CAVOK,22,13,Q1011\n",
      "METAF,SBGL,180900Z,27003KT,10000,CAVOK,22,14,Q1011\n",
      "METAF,SBGL,181000Z,25007KT,10000,CAVOK,22,13,Q1012\n",
      "METAF,SBGL,181100Z,29006KT,10000,CAVOK,23,13,Q1014\n",
      "METAF,SBGL,181200Z,28007KT,10000,CAVOK,23,14,Q1013\n",
      "METAF,SBGL,181300Z,25004KT,10000,CAVOK,24,15,Q1015\n",
      "METAF,SBGL,181400Z,21005KT,10000,CAVOK,24,17,Q1017\n",
      "METAF,SBGL,181500Z,17006KT,0000,FEW033,24,18,Q1016\n",
      "METAF,SBGL,181600Z,17008KT,0000,FEW032,24,18,Q1014\n",
      "METAF,SBGL,181700Z,17009KT,0000,FEW030,24,19,Q1016\n",
      "METAF,SBGL,181800Z,22012KT,0000,OVC025,24,19,Q1012\n",
      "METAF,SBGL,191600Z,12003KT,0000,OVC033,21,16,Q1022\n",
      "METAF,SBGL,191700Z,14004KT,0000,OVC033,22,16,Q1022\n",
      "METAF,SBGL,191800Z,11009KT,0000,OVC033,22,16,Q1018\n",
      "METAF,SBGL,191900Z,08010KT,0000,OVC033,22,17,Q1021\n",
      "METAF,SBGL,192000Z,09010KT,0000,OVC033,22,17,Q1021\n",
      "METAF,SBGL,192100Z,09010KT,0000,OVC033,21,16,Q1020\n",
      "METAF,SBGL,192200Z,12008KT,0000,OVC033,21,16,Q1022\n",
      "METAF,SBGL,201100Z,09002KT,10000,CAVOK,19,15,Q1021\n",
      "METAF,SBGL,201300Z,13002KT,10000,CAVOK,20,16,Q1023\n",
      "METAF,SBGL,201400Z,14002KT,10000,CAVOK,21,15,Q1023\n",
      "METAF,SBGL,201500Z,14002KT,10000,CAVOK,22,16,Q1019\n",
      "METAF,SBGL,201600Z,16003KT,10000,CAVOK,23,16,Q1020\n",
      "METAF,SBGL,201700Z,17004KT,10000,CAVOK,23,17,Q1019\n",
      "METAF,SBGL,201800Z,17004KT,10000,CAVOK,24,17,Q1017\n",
      "METAF,SBGL,201900Z,17003KT,10000,CAVOK,24,17,Q1018\n",
      "METAF,SBGL,202000Z,17005KT,10000,CAVOK,24,18,Q1018\n",
      "METAF,SBGL,202100Z,10007KT,10000,CAVOK,23,18,Q1018\n",
      "METAF,SBGL,202200Z,09008KT,10000,CAVOK,22,19,Q1019\n",
      "METAF,SBGL,202300Z,10008KT,10000,CAVOK,22,18,Q1019\n",
      "METAF,SBGL,210300Z,08006KT,10000,CAVOK,21,18,Q1018\n",
      "METAF,SBGL,210400Z,08005KT,10000,CAVOK,21,17,Q1019\n",
      "METAF,SBGL,210500Z,07006KT,10000,CAVOK,21,17,Q1019\n",
      "METAF,SBGL,211100Z,15002KT,10000,CAVOK,20,17,Q1020\n",
      "METAF,SBGL,211200Z,12003KT,10000,CAVOK,20,17,Q1020\n",
      "METAF,SBGL,211300Z,17005KT,10000,CAVOK,22,17,Q1021\n",
      "METAF,SBGL,211400Z,18002KT,10000,CAVOK,22,18,Q1021\n",
      "METAF,SBGL,211500Z,11001KT,10000,CAVOK,23,17,Q1018\n",
      "METAF,SBGL,211600Z,12003KT,10000,CAVOK,24,17,Q1018\n",
      "METAF,SBGL,211700Z,13003KT,10000,CAVOK,25,17,Q1017\n",
      "METAF,SBGL,211800Z,15004KT,10000,CAVOK,25,18,Q1015\n",
      "METAF,SBGL,211900Z,15004KT,10000,CAVOK,25,19,Q1016\n",
      "METAF,SBGL,212000Z,13005KT,10000,CAVOK,25,19,Q1016\n",
      "METAF,SBGL,212100Z,10007KT,10000,CAVOK,25,20,Q1015\n",
      "METAF,SBGL,212200Z,08008KT,10000,CAVOK,24,19,Q1016\n",
      "METAF,SBGL,212300Z,08008KT,10000,CAVOK,23,19,Q1016\n",
      "METAF,SBGL,220000Z,10007KT,10000,CAVOK,23,19,Q1016\n",
      "METAF,SBGL,220100Z,09006KT,10000,CAVOK,22,17,Q1017\n",
      "METAF,SBGL,220200Z,10006KT,10000,CAVOK,22,17,Q1018\n",
      "METAF,SBGL,220300Z,08006KT,10000,CAVOK,22,17,Q1016\n",
      "METAF,SBGL,220400Z,10005KT,10000,CAVOK,22,17,Q1016\n",
      "METAF,SBGL,220500Z,11003KT,10000,CAVOK,22,17,Q1015\n",
      "METAF,SBGL,220600Z,14005KT,10000,CAVOK,20,16,Q1015\n",
      "METAF,SBGL,220700Z,13004KT,10000,CAVOK,21,15,Q1016\n",
      "METAF,SBGL,220800Z,11004KT,10000,CAVOK,21,15,Q1017\n",
      "METAF,SBGL,220900Z,10005KT,10000,CAVOK,21,16,Q1015\n",
      "METAF,SBGL,221000Z,12003KT,10000,CAVOK,21,16,Q1016\n",
      "METAF,SBGL,221100Z,18002KT,10000,CAVOK,22,16,Q1016\n",
      "METAF,SBGL,221200Z,23002KT,10000,CAVOK,23,16,Q1016\n",
      "METAF,SBGL,221300Z,11001KT,10000,CAVOK,24,16,Q1017\n",
      "METAF,SBGL,221400Z,10003KT,10000,CAVOK,25,16,Q1018\n",
      "METAF,SBGL,221500Z,08003KT,10000,CAVOK,26,16,Q1015\n",
      "METAF,SBGL,221600Z,09002KT,10000,CAVOK,27,15,Q1015\n",
      "METAF,SBGL,221700Z,08003KT,10000,CAVOK,27,15,Q1014\n",
      "METAF,SBGL,221800Z,09004KT,10000,CAVOK,27,17,Q1012\n",
      "METAF,SBGL,221900Z,08004KT,10000,CAVOK,27,16,Q1013\n",
      "METAF,SBGL,222000Z,10004KT,10000,CAVOK,27,17,Q1015\n",
      "METAF,SBGL,222100Z,10006KT,10000,CAVOK,26,18,Q1013\n",
      "METAF,SBGL,222200Z,09005KT,10000,CAVOK,25,19,Q1014\n",
      "METAF,SBGL,222300Z,08003KT,10000,CAVOK,24,18,Q1015\n",
      "METAF,SBGL,230000Z,10005KT,10000,CAVOK,23,18,Q1014\n",
      "METAF,SBGL,230100Z,11004KT,10000,CAVOK,23,18,Q1015\n",
      "METAF,SBGL,230200Z,10005KT,10000,CAVOK,23,17,Q1015\n",
      "METAF,SBGL,230300Z,09006KT,10000,CAVOK,23,16,Q1013\n",
      "METAF,SBGL,230400Z,10004KT,10000,CAVOK,23,16,Q1014\n",
      "METAF,SBGL,230500Z,09003KT,10000,CAVOK,24,16,Q1014\n",
      "METAF,SBGL,230600Z,14002KT,10000,CAVOK,21,15,Q1013\n",
      "METAF,SBGL,230700Z,18002KT,10000,CAVOK,22,15,Q1014\n",
      "METAF,SBGL,230800Z,23003KT,10000,CAVOK,22,16,Q1016\n",
      "METAF,SBGL,230900Z,28002KT,10000,CAVOK,22,16,Q1014\n",
      "METAF,SBGL,231000Z,14001KT,10000,CAVOK,22,15,Q1016\n",
      "METAF,SBGL,231100Z,10002KT,10000,CAVOK,22,15,Q1017\n",
      "METAF,SBGL,231200Z,14002KT,10000,CAVOK,23,15,Q1016\n",
      "METAF,SBGL,231300Z,12002KT,10000,CAVOK,23,16,Q1017\n",
      "METAF,SBGL,231400Z,12003KT,10000,CAVOK,24,15,Q1018\n",
      "METAF,SBGL,231500Z,09002KT,10000,CAVOK,25,15,Q1016\n",
      "METAF,SBGL,231600Z,06003KT,10000,CAVOK,26,14,Q1015\n",
      "METAF,SBGL,231700Z,06003KT,10000,CAVOK,27,14,Q1015\n",
      "METAF,SBGL,231800Z,10004KT,10000,CAVOK,27,16,Q1012\n",
      "METAF,SBGL,231900Z,10004KT,10000,CAVOK,28,15,Q1014\n",
      "METAF,SBGL,232000Z,13004KT,10000,CAVOK,27,17,Q1016\n",
      "METAF,SBGL,232100Z,12004KT,10000,CAVOK,26,18,Q1014\n",
      "METAF,SBGL,232200Z,10004KT,10000,CAVOK,25,18,Q1015\n",
      "METAF,SBGL,232300Z,07004KT,10000,CAVOK,24,17,Q1016\n",
      "METAF,SBGL,240000Z,09006KT,10000,CAVOK,23,18,Q1014\n",
      "METAF,SBGL,240100Z,09006KT,10000,CAVOK,23,18,Q1015\n",
      "METAF,SBGL,240200Z,10004KT,10000,CAVOK,23,18,Q1017\n",
      "METAF,SBGL,240300Z,09005KT,10000,CAVOK,23,16,Q1015\n",
      "METAF,SBGL,240400Z,11004KT,10000,CAVOK,22,15,Q1015\n",
      "METAF,SBGL,240500Z,11004KT,10000,CAVOK,23,15,Q1016\n",
      "METAF,SBGL,240600Z,15003KT,10000,CAVOK,21,16,Q1013\n",
      "METAF,SBGL,240700Z,16003KT,10000,CAVOK,21,15,Q1016\n",
      "METAF,SBGL,240800Z,15002KT,10000,CAVOK,22,15,Q1017\n",
      "METAF,SBGL,240900Z,13003KT,10000,CAVOK,22,15,Q1016\n",
      "METAF,SBGL,241000Z,11004KT,10000,CAVOK,22,14,Q1016\n",
      "METAF,SBGL,241100Z,14003KT,10000,CAVOK,22,13,Q1017\n",
      "METAF,SBGL,241200Z,16002KT,10000,CAVOK,22,12,Q1016\n",
      "METAF,SBGL,241300Z,14003KT,10000,CAVOK,24,15,Q1018\n",
      "METAF,SBGL,241400Z,13002KT,10000,CAVOK,25,14,Q1019\n",
      "METAF,SBGL,241500Z,12002KT,10000,CAVOK,26,14,Q1016\n",
      "METAF,SBGL,241600Z,11002KT,10000,CAVOK,26,13,Q1016\n",
      "METAF,SBGL,241700Z,14002KT,10000,CAVOK,27,13,Q1016\n",
      "METAF,SBGL,241800Z,12004KT,10000,CAVOK,27,15,Q1013\n",
      "METAF,SBGL,241900Z,12004KT,10000,CAVOK,27,15,Q1015\n",
      "METAF,SBGL,242000Z,15005KT,10000,CAVOK,26,17,Q1017\n",
      "METAF,SBGL,242100Z,19006KT,10000,CAVOK,25,18,Q1015\n",
      "METAF,SBGL,242200Z,21005KT,10000,CAVOK,24,19,Q1017\n",
      "METAF,SBGL,242300Z,23005KT,10000,CAVOK,24,18,Q1018\n",
      "METAF,SBGL,250000Z,18006KT,10000,CAVOK,22,19,Q1016\n",
      "METAF,SBGL,250100Z,19004KT,10000,CAVOK,22,19,Q1018\n",
      "METAF,SBGL,250500Z,22003KT,10000,CAVOK,21,18,Q1017\n",
      "METAF,SBGL,250600Z,18003KT,10000,CAVOK,20,14,Q1013\n",
      "METAF,SBGL,250700Z,11005KT,10000,CAVOK,20,15,Q1017\n",
      "METAF,SBGL,250800Z,11003KT,10000,CAVOK,20,16,Q1018\n",
      "METAF,SBGL,250900Z,13005KT,10000,CAVOK,20,16,Q1016\n",
      "METAF,SBGL,251000Z,08004KT,10000,CAVOK,20,16,Q1017\n",
      "METAF,SBGL,251100Z,19001KT,10000,CAVOK,20,16,Q1017\n",
      "METAF,SBGL,251200Z,20003KT,10000,CAVOK,21,16,Q1017\n",
      "METAF,SBGL,251300Z,21004KT,10000,CAVOK,23,15,Q1017\n",
      "METAF,SBGL,251400Z,23004KT,10000,CAVOK,25,15,Q1017\n",
      "METAF,SBGL,251500Z,22008KT,10000,CAVOK,26,15,Q1016\n",
      "METAF,SBGL,251600Z,21011KT,10000,CAVOK,25,16,Q1017\n",
      "METAF,SBGL,251700Z,22011KT,10000,CAVOK,24,17,Q1017\n",
      "METAF,SBGL,251800Z,22010KT,0000,FEW027,23,18,Q1017\n",
      "METAF,SBGL,261300Z,13005KT,0000,OVC020,21,17,Q1023\n",
      "METAF,SBGL,261400Z,14004KT,0000,OVC020,21,17,Q1024\n",
      "METAF,SBGL,261500Z,14006KT,0000,BKN022,21,16,Q1021\n",
      "METAF,SBGL,261600Z,13003KT,0000,BKN026,22,16,Q1019\n",
      "METAF,SBGL,261700Z,16004KT,0000,BKN030,22,15,Q1019\n",
      "METAF,SBGL,261800Z,16011KT,0000,OVC031,22,15,Q1018\n",
      "METAF,SBGL,261900Z,15012KT,0000,BKN029,22,15,Q1021\n",
      "METAF,SBGL,262000Z,14008KT,0000,BKN033,21,15,Q1022\n",
      "METAF,SBGL,262100Z,12007KT,0000,BKN033,21,15,Q1020\n",
      "METAF,SBGL,262200Z,10008KT,0000,BKN033,20,15,Q1021\n",
      "METAF,SBGL,262300Z,10008KT,0000,OVC033,20,15,Q1022\n",
      "METAF,SBGL,270000Z,10007KT,0000,OVC033,20,15,Q1021\n",
      "METAF,SBGL,270100Z,09006KT,0000,OVC033,19,15,Q1023\n",
      "METAF,SBGL,271100Z,07005KT,0000,FEW023,19,14,Q1022\n",
      "METAF,SBGL,271300Z,07004KT,0000,BKN022,19,14,Q1025\n",
      "METAF,SBGL,271400Z,03003KT,0000,BKN027,20,14,Q1026\n",
      "METAF,SBGL,271500Z,04003KT,0000,SCT031,20,13,Q1023\n",
      "METAF,SBGL,271600Z,09002KT,10000,CAVOK,21,13,Q1022\n",
      "METAF,SBGL,271700Z,08002KT,10000,CAVOK,21,13,Q1020\n",
      "METAF,SBGL,271800Z,13004KT,0000,BKN033,22,13,Q1018\n",
      "METAF,SBGL,271900Z,13011KT,0000,OVC033,22,14,Q1020\n",
      "METAF,SBGL,272000Z,12012KT,0000,BKN033,21,14,Q1023\n",
      "METAF,SBGL,272100Z,10011KT,0000,BKN033,21,14,Q1021\n",
      "METAF,SBGL,272200Z,10011KT,0000,SCT033,21,14,Q1022\n",
      "METAF,SBGL,272300Z,06011KT,10000,CAVOK,20,13,Q1021\n",
      "METAF,SBGL,280000Z,09012KT,10000,CAVOK,19,14,Q1019\n",
      "METAF,SBGL,280100Z,09013KT,10000,CAVOK,19,14,Q1019\n",
      "METAF,SBGL,280200Z,09012KT,10000,CAVOK,19,13,Q1023\n",
      "METAF,SBGL,280300Z,07011KT,10000,CAVOK,19,13,Q1020\n",
      "METAF,SBGL,280400Z,07008KT,10000,CAVOK,19,13,Q1019\n",
      "METAF,SBGL,280500Z,08006KT,10000,CAVOK,18,13,Q1018\n",
      "METAF,SBGL,280600Z,14004KT,10000,CAVOK,17,13,Q1018\n",
      "METAF,SBGL,280700Z,12002KT,10000,CAVOK,17,13,Q1019\n",
      "METAF,SBGL,280800Z,20002KT,10000,CAVOK,17,13,Q1022\n",
      "METAF,SBGL,280900Z,01003KT,10000,CAVOK,17,13,Q1020\n",
      "METAF,SBGL,281000Z,03003KT,10000,CAVOK,17,13,Q1020\n",
      "METAF,SBGL,281100Z,15001KT,10000,CAVOK,18,13,Q1021\n",
      "METAF,SBGL,281200Z,16004KT,10000,CAVOK,18,14,Q1020\n",
      "METAF,SBGL,281300Z,15004KT,10000,CAVOK,20,14,Q1021\n",
      "METAF,SBGL,281400Z,16004KT,10000,CAVOK,21,13,Q1023\n",
      "METAF,SBGL,281500Z,13004KT,10000,CAVOK,22,14,Q1019\n",
      "METAF,SBGL,281600Z,14003KT,10000,CAVOK,22,15,Q1019\n",
      "METAF,SBGL,281700Z,11001KT,10000,CAVOK,23,14,Q1018\n",
      "METAF,SBGL,281800Z,16005KT,10000,CAVOK,23,15,Q1014\n",
      "METAF,SBGL,281900Z,16006KT,10000,CAVOK,23,16,Q1016\n",
      "METAF,SBGL,282000Z,14006KT,10000,CAVOK,23,16,Q1018\n",
      "METAF,SBGL,282100Z,13005KT,10000,CAVOK,23,16,Q1015\n",
      "METAF,SBGL,282200Z,13004KT,10000,CAVOK,23,16,Q1017\n",
      "METAF,SBGL,282300Z,11004KT,10000,CAVOK,22,16,Q1017\n",
      "METAF,SBGL,290000Z,14006KT,10000,CAVOK,21,16,Q1015\n",
      "METAF,SBGL,290100Z,12006KT,10000,CAVOK,21,15,Q1017\n",
      "METAF,SBGL,290200Z,10006KT,10000,CAVOK,21,14,Q1017\n",
      "METAF,SBGL,290300Z,09004KT,10000,CAVOK,21,14,Q1015\n",
      "METAF,SBGL,290400Z,10005KT,10000,CAVOK,21,15,Q1015\n",
      "METAF,SBGL,290500Z,10004KT,10000,CAVOK,21,15,Q1015\n",
      "METAF,SBGL,290600Z,12006KT,10000,CAVOK,20,14,Q1013\n",
      "METAF,SBGL,290700Z,10007KT,10000,CAVOK,20,14,Q1014\n",
      "METAF,SBGL,290800Z,15003KT,10000,CAVOK,20,14,Q1015\n",
      "METAF,SBGL,290900Z,35001KT,10000,CAVOK,21,14,Q1013\n",
      "METAF,SBGL,291000Z,27004KT,10000,CAVOK,21,15,Q1015\n",
      "METAF,SBGL,291100Z,29005KT,10000,CAVOK,22,15,Q1015\n",
      "METAF,SBGL,291200Z,13003KT,10000,CAVOK,21,13,Q1014\n",
      "METAF,SBGL,291300Z,09005KT,10000,CAVOK,22,15,Q1016\n",
      "METAF,SBGL,291400Z,17001KT,10000,CAVOK,23,16,Q1017\n",
      "METAF,SBGL,291500Z,13001KT,10000,CAVOK,24,15,Q1013\n",
      "METAF,SBGL,291600Z,09001KT,10000,CAVOK,25,15,Q1013\n",
      "METAF,SBGL,291700Z,33001KT,10000,CAVOK,26,14,Q1012\n",
      "METAF,SBGL,291800Z,08005KT,10000,CAVOK,26,16,Q1009\n",
      "METAF,SBGL,291900Z,07005KT,10000,CAVOK,26,16,Q1012\n",
      "METAF,SBGL,292000Z,10002KT,10000,CAVOK,26,16,Q1015\n",
      "METAF,SBGL,292100Z,08004KT,10000,CAVOK,25,17,Q1013\n",
      "METAF,SBGL,292200Z,05009KT,10000,CAVOK,24,17,Q1012\n",
      "METAF,SBGL,292300Z,05012KT,10000,CAVOK,24,17,Q1011\n",
      "METAF,SBGL,300000Z,07006KT,10000,CAVOK,23,17,Q1011\n",
      "METAF,SBGL,300100Z,13005KT,10000,CAVOK,22,17,Q1014\n",
      "METAF,SBGL,300200Z,22008KT,10000,CAVOK,23,17,Q1016\n",
      "METAF,SBGL,300300Z,27006KT,10000,CAVOK,22,18,Q1014\n",
      "METAF,SBGL,301200Z,28005KT,0000,OVC033,21,16,Q1018\n",
      "METAF,SBGL,301300Z,23002KT,0000,OVC033,21,15,Q1021\n",
      "METAF,SBGL,301400Z,05002KT,0000,BKN027,22,16,Q1023\n",
      "METAF,SBGL,301500Z,14004KT,0000,BKN031,22,15,Q1020\n",
      "METAF,SBGL,301600Z,16008KT,0000,BKN031,22,16,Q1021\n",
      "METAF,SBGL,301700Z,16006KT,0000,SCT032,22,16,Q1019\n",
      "METAF,SBGL,301800Z,14006KT,0000,FEW031,22,16,Q1017\n",
      "METAF,SBGL,301900Z,14004KT,10000,CAVOK,22,16,Q1017\n",
      "METAF,SBGL,302000Z,15005KT,10000,CAVOK,22,16,Q1017\n",
      "METAF,SBGL,302100Z,14008KT,10000,CAVOK,22,16,Q1017\n",
      "METAF,SBGL,302200Z,13009KT,0000,FEW033,21,16,Q1019\n"
     ]
    }
   ],
   "source": [
    "# desired format: METAF,SBGL,25001KT,3000,....\n",
    "# if after KT, there is not a number, add 0000\n",
    "# if after KT, there is a number, don't change\n",
    "for row in metaf_june_2022_SBGL[\"metaf\"]:\n",
    "    if not row.split(\"KT,\")[1][0].isdigit():\n",
    "        # if it has CAVOK, then the number is 10000\n",
    "        if \"CAVOK\" in row:\n",
    "            row = row.replace(\"KT,\", \"KT,10000,\")\n",
    "        else:\n",
    "            row = row.replace(\"KT,\", \"KT,0000,\")\n",
    "        print(row)"
   ]
  },
  {
   "cell_type": "code",
   "execution_count": 40,
   "metadata": {},
   "outputs": [],
   "source": [
    "# string into multiple columns\n",
    "# columns = [\"report\", \"station\", \"dt_origin\", \"wind\", \"visibility\", \"weather\", \"clouds\",\"temperature\", \"dew_point\",\"altimeter (hPA)\"]\n",
    "new_columns = metaf_june_2022_SBGL[\"metaf\"].str.split(\",\", expand=True)"
   ]
  },
  {
   "cell_type": "code",
   "execution_count": 41,
   "metadata": {},
   "outputs": [
    {
     "data": {
      "text/plain": [
       "(578, 10)"
      ]
     },
     "execution_count": 41,
     "metadata": {},
     "output_type": "execute_result"
    }
   ],
   "source": [
    "new_columns.shape"
   ]
  },
  {
   "cell_type": "code",
   "execution_count": 42,
   "metadata": {},
   "outputs": [
    {
     "data": {
      "text/plain": [
       "2\n",
       "True    578\n",
       "Name: count, dtype: int64"
      ]
     },
     "execution_count": 42,
     "metadata": {},
     "output_type": "execute_result"
    }
   ],
   "source": [
    "# check whether any of the rows in columns 2 does not end in Z\n",
    "new_columns[2].str.endswith(\"Z\").value_counts()"
   ]
  },
  {
   "cell_type": "code",
   "execution_count": 43,
   "metadata": {},
   "outputs": [
    {
     "data": {
      "text/plain": [
       "3\n",
       "True    578\n",
       "Name: count, dtype: int64"
      ]
     },
     "execution_count": 43,
     "metadata": {},
     "output_type": "execute_result"
    }
   ],
   "source": [
    "# check whether any of the rows in columns 3 does not end in KT\n",
    "new_columns[3].str.endswith(\"KT\").value_counts()"
   ]
  },
  {
   "cell_type": "markdown",
   "metadata": {},
   "source": [
    "Visibility\n",
    "CAVOK: Ceiling And Visibility OK -> replaces visibility, clouds and weather\n",
    "5000 means visibility is 5000 meters."
   ]
  },
  {
   "cell_type": "code",
   "execution_count": 50,
   "metadata": {},
   "outputs": [
    {
     "data": {
      "text/plain": [
       "array(['3000', '2000', '1000', '4000', '8000', '9000', 'SCT033', 'SCT030',\n",
       "       'FEW033', '7000', 'CAVOK', '6000', '5000', 'OVC027', 'BKN027',\n",
       "       'BKN023', 'OVC033', 'BKN033', 'FEW032', 'BKN030', 'BKN028',\n",
       "       'OVC028', 'OVC026', 'OVC029', 'BKN024', 'OVC023', 'OVC021',\n",
       "       'FEW021', 'FEW030', 'OVC025', 'FEW027', 'OVC020', 'BKN022',\n",
       "       'BKN026', 'OVC031', 'BKN029', 'FEW023', 'SCT031', 'BKN031',\n",
       "       'SCT032', 'FEW031'], dtype=object)"
      ]
     },
     "execution_count": 50,
     "metadata": {},
     "output_type": "execute_result"
    }
   ],
   "source": [
    "new_columns[4].unique()"
   ]
  },
  {
   "cell_type": "code",
   "execution_count": 45,
   "metadata": {},
   "outputs": [],
   "source": [
    "multiples_of_1000 = np.arange(1000, 10000, 1000)\n",
    "multiples_of_1000 = multiples_of_1000.astype(str)"
   ]
  },
  {
   "cell_type": "code",
   "execution_count": 46,
   "metadata": {},
   "outputs": [
    {
     "data": {
      "text/plain": [
       "4\n",
       "False    326\n",
       "True     252\n",
       "Name: count, dtype: int64"
      ]
     },
     "execution_count": 46,
     "metadata": {},
     "output_type": "execute_result"
    }
   ],
   "source": [
    "new_columns[4].isin(multiples_of_1000).value_counts()"
   ]
  },
  {
   "cell_type": "code",
   "execution_count": 51,
   "metadata": {},
   "outputs": [
    {
     "data": {
      "text/html": [
       "<div>\n",
       "<style scoped>\n",
       "    .dataframe tbody tr th:only-of-type {\n",
       "        vertical-align: middle;\n",
       "    }\n",
       "\n",
       "    .dataframe tbody tr th {\n",
       "        vertical-align: top;\n",
       "    }\n",
       "\n",
       "    .dataframe thead th {\n",
       "        text-align: right;\n",
       "    }\n",
       "</style>\n",
       "<table border=\"1\" class=\"dataframe\">\n",
       "  <thead>\n",
       "    <tr style=\"text-align: right;\">\n",
       "      <th></th>\n",
       "      <th>0</th>\n",
       "      <th>1</th>\n",
       "      <th>2</th>\n",
       "      <th>3</th>\n",
       "      <th>4</th>\n",
       "      <th>5</th>\n",
       "      <th>6</th>\n",
       "      <th>7</th>\n",
       "      <th>8</th>\n",
       "      <th>9</th>\n",
       "    </tr>\n",
       "  </thead>\n",
       "  <tbody>\n",
       "    <tr>\n",
       "      <th>16</th>\n",
       "      <td>METAF</td>\n",
       "      <td>SBGL</td>\n",
       "      <td>011600Z</td>\n",
       "      <td>15003KT</td>\n",
       "      <td>SCT033</td>\n",
       "      <td>25</td>\n",
       "      <td>20</td>\n",
       "      <td>Q1013</td>\n",
       "      <td>None</td>\n",
       "      <td>None</td>\n",
       "    </tr>\n",
       "    <tr>\n",
       "      <th>17</th>\n",
       "      <td>METAF</td>\n",
       "      <td>SBGL</td>\n",
       "      <td>011700Z</td>\n",
       "      <td>17005KT</td>\n",
       "      <td>SCT033</td>\n",
       "      <td>26</td>\n",
       "      <td>20</td>\n",
       "      <td>Q1013</td>\n",
       "      <td>None</td>\n",
       "      <td>None</td>\n",
       "    </tr>\n",
       "    <tr>\n",
       "      <th>18</th>\n",
       "      <td>METAF</td>\n",
       "      <td>SBGL</td>\n",
       "      <td>011800Z</td>\n",
       "      <td>15008KT</td>\n",
       "      <td>SCT030</td>\n",
       "      <td>26</td>\n",
       "      <td>21</td>\n",
       "      <td>Q1013</td>\n",
       "      <td>None</td>\n",
       "      <td>None</td>\n",
       "    </tr>\n",
       "    <tr>\n",
       "      <th>19</th>\n",
       "      <td>METAF</td>\n",
       "      <td>SBGL</td>\n",
       "      <td>011900Z</td>\n",
       "      <td>13009KT</td>\n",
       "      <td>FEW033</td>\n",
       "      <td>26</td>\n",
       "      <td>21</td>\n",
       "      <td>Q1013</td>\n",
       "      <td>None</td>\n",
       "      <td>None</td>\n",
       "    </tr>\n",
       "    <tr>\n",
       "      <th>23</th>\n",
       "      <td>METAF</td>\n",
       "      <td>SBGL</td>\n",
       "      <td>012300Z</td>\n",
       "      <td>09007KT</td>\n",
       "      <td>CAVOK</td>\n",
       "      <td>24</td>\n",
       "      <td>21</td>\n",
       "      <td>Q1014</td>\n",
       "      <td>None</td>\n",
       "      <td>None</td>\n",
       "    </tr>\n",
       "  </tbody>\n",
       "</table>\n",
       "</div>"
      ],
      "text/plain": [
       "        0     1        2        3       4   5   6      7     8     9\n",
       "16  METAF  SBGL  011600Z  15003KT  SCT033  25  20  Q1013  None  None\n",
       "17  METAF  SBGL  011700Z  17005KT  SCT033  26  20  Q1013  None  None\n",
       "18  METAF  SBGL  011800Z  15008KT  SCT030  26  21  Q1013  None  None\n",
       "19  METAF  SBGL  011900Z  13009KT  FEW033  26  21  Q1013  None  None\n",
       "23  METAF  SBGL  012300Z  09007KT   CAVOK  24  21  Q1014  None  None"
      ]
     },
     "execution_count": 51,
     "metadata": {},
     "output_type": "execute_result"
    }
   ],
   "source": [
    "new_columns[~new_columns[4].isin(multiples_of_1000)].head()"
   ]
  }
 ],
 "metadata": {
  "kernelspec": {
   "display_name": "Python 3 (ipykernel)",
   "language": "python",
   "name": "python3"
  },
  "language_info": {
   "codemirror_mode": {
    "name": "ipython",
    "version": 3
   },
   "file_extension": ".py",
   "mimetype": "text/x-python",
   "name": "python",
   "nbconvert_exporter": "python",
   "pygments_lexer": "ipython3",
   "version": "3.11.5"
  },
  "orig_nbformat": 4
 },
 "nbformat": 4,
 "nbformat_minor": 2
}
